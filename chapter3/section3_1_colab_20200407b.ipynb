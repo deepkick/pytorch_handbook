{
  "nbformat": 4,
  "nbformat_minor": 0,
  "metadata": {
    "colab": {
      "name": "section3_1_colab.ipynb",
      "provenance": [],
      "collapsed_sections": []
    },
    "kernelspec": {
      "name": "python3",
      "display_name": "Python 3"
    },
    "accelerator": "GPU",
    "widgets": {
      "application/vnd.jupyter.widget-state+json": {
        "01237303bc4e480a98d11f092cf74618": {
          "model_module": "@jupyter-widgets/controls",
          "model_name": "HBoxModel",
          "state": {
            "_view_name": "HBoxView",
            "_dom_classes": [],
            "_model_name": "HBoxModel",
            "_view_module": "@jupyter-widgets/controls",
            "_model_module_version": "1.5.0",
            "_view_count": null,
            "_view_module_version": "1.5.0",
            "box_style": "",
            "layout": "IPY_MODEL_cfdd335ae1334b8a989e6dd07fece54d",
            "_model_module": "@jupyter-widgets/controls",
            "children": [
              "IPY_MODEL_c730ea57adb24f7c9865ab95de32d6a5",
              "IPY_MODEL_f127dbdf31da408ebfadabdc0615d1ef"
            ]
          }
        },
        "cfdd335ae1334b8a989e6dd07fece54d": {
          "model_module": "@jupyter-widgets/base",
          "model_name": "LayoutModel",
          "state": {
            "_view_name": "LayoutView",
            "grid_template_rows": null,
            "right": null,
            "justify_content": null,
            "_view_module": "@jupyter-widgets/base",
            "overflow": null,
            "_model_module_version": "1.2.0",
            "_view_count": null,
            "flex_flow": null,
            "width": null,
            "min_width": null,
            "border": null,
            "align_items": null,
            "bottom": null,
            "_model_module": "@jupyter-widgets/base",
            "top": null,
            "grid_column": null,
            "overflow_y": null,
            "overflow_x": null,
            "grid_auto_flow": null,
            "grid_area": null,
            "grid_template_columns": null,
            "flex": null,
            "_model_name": "LayoutModel",
            "justify_items": null,
            "grid_row": null,
            "max_height": null,
            "align_content": null,
            "visibility": null,
            "align_self": null,
            "height": null,
            "min_height": null,
            "padding": null,
            "grid_auto_rows": null,
            "grid_gap": null,
            "max_width": null,
            "order": null,
            "_view_module_version": "1.2.0",
            "grid_template_areas": null,
            "object_position": null,
            "object_fit": null,
            "grid_auto_columns": null,
            "margin": null,
            "display": null,
            "left": null
          }
        },
        "c730ea57adb24f7c9865ab95de32d6a5": {
          "model_module": "@jupyter-widgets/controls",
          "model_name": "IntProgressModel",
          "state": {
            "_view_name": "ProgressView",
            "style": "IPY_MODEL_36807cfce9b6446f8527ba07b3157f1e",
            "_dom_classes": [],
            "description": "",
            "_model_name": "IntProgressModel",
            "bar_style": "info",
            "max": 1,
            "_view_module": "@jupyter-widgets/controls",
            "_model_module_version": "1.5.0",
            "value": 1,
            "_view_count": null,
            "_view_module_version": "1.5.0",
            "orientation": "horizontal",
            "min": 0,
            "description_tooltip": null,
            "_model_module": "@jupyter-widgets/controls",
            "layout": "IPY_MODEL_4fa848227ef34ce18b411ca61f2c7fbd"
          }
        },
        "f127dbdf31da408ebfadabdc0615d1ef": {
          "model_module": "@jupyter-widgets/controls",
          "model_name": "HTMLModel",
          "state": {
            "_view_name": "HTMLView",
            "style": "IPY_MODEL_854ccefca4994df7b85e93e45a662685",
            "_dom_classes": [],
            "description": "",
            "_model_name": "HTMLModel",
            "placeholder": "​",
            "_view_module": "@jupyter-widgets/controls",
            "_model_module_version": "1.5.0",
            "value": " 170500096/? [00:19&lt;00:00, 33129012.51it/s]",
            "_view_count": null,
            "_view_module_version": "1.5.0",
            "description_tooltip": null,
            "_model_module": "@jupyter-widgets/controls",
            "layout": "IPY_MODEL_bab4cb883fe745dca1eff27df90a1ae0"
          }
        },
        "36807cfce9b6446f8527ba07b3157f1e": {
          "model_module": "@jupyter-widgets/controls",
          "model_name": "ProgressStyleModel",
          "state": {
            "_view_name": "StyleView",
            "_model_name": "ProgressStyleModel",
            "description_width": "initial",
            "_view_module": "@jupyter-widgets/base",
            "_model_module_version": "1.5.0",
            "_view_count": null,
            "_view_module_version": "1.2.0",
            "bar_color": null,
            "_model_module": "@jupyter-widgets/controls"
          }
        },
        "4fa848227ef34ce18b411ca61f2c7fbd": {
          "model_module": "@jupyter-widgets/base",
          "model_name": "LayoutModel",
          "state": {
            "_view_name": "LayoutView",
            "grid_template_rows": null,
            "right": null,
            "justify_content": null,
            "_view_module": "@jupyter-widgets/base",
            "overflow": null,
            "_model_module_version": "1.2.0",
            "_view_count": null,
            "flex_flow": null,
            "width": null,
            "min_width": null,
            "border": null,
            "align_items": null,
            "bottom": null,
            "_model_module": "@jupyter-widgets/base",
            "top": null,
            "grid_column": null,
            "overflow_y": null,
            "overflow_x": null,
            "grid_auto_flow": null,
            "grid_area": null,
            "grid_template_columns": null,
            "flex": null,
            "_model_name": "LayoutModel",
            "justify_items": null,
            "grid_row": null,
            "max_height": null,
            "align_content": null,
            "visibility": null,
            "align_self": null,
            "height": null,
            "min_height": null,
            "padding": null,
            "grid_auto_rows": null,
            "grid_gap": null,
            "max_width": null,
            "order": null,
            "_view_module_version": "1.2.0",
            "grid_template_areas": null,
            "object_position": null,
            "object_fit": null,
            "grid_auto_columns": null,
            "margin": null,
            "display": null,
            "left": null
          }
        },
        "854ccefca4994df7b85e93e45a662685": {
          "model_module": "@jupyter-widgets/controls",
          "model_name": "DescriptionStyleModel",
          "state": {
            "_view_name": "StyleView",
            "_model_name": "DescriptionStyleModel",
            "description_width": "",
            "_view_module": "@jupyter-widgets/base",
            "_model_module_version": "1.5.0",
            "_view_count": null,
            "_view_module_version": "1.2.0",
            "_model_module": "@jupyter-widgets/controls"
          }
        },
        "bab4cb883fe745dca1eff27df90a1ae0": {
          "model_module": "@jupyter-widgets/base",
          "model_name": "LayoutModel",
          "state": {
            "_view_name": "LayoutView",
            "grid_template_rows": null,
            "right": null,
            "justify_content": null,
            "_view_module": "@jupyter-widgets/base",
            "overflow": null,
            "_model_module_version": "1.2.0",
            "_view_count": null,
            "flex_flow": null,
            "width": null,
            "min_width": null,
            "border": null,
            "align_items": null,
            "bottom": null,
            "_model_module": "@jupyter-widgets/base",
            "top": null,
            "grid_column": null,
            "overflow_y": null,
            "overflow_x": null,
            "grid_auto_flow": null,
            "grid_area": null,
            "grid_template_columns": null,
            "flex": null,
            "_model_name": "LayoutModel",
            "justify_items": null,
            "grid_row": null,
            "max_height": null,
            "align_content": null,
            "visibility": null,
            "align_self": null,
            "height": null,
            "min_height": null,
            "padding": null,
            "grid_auto_rows": null,
            "grid_gap": null,
            "max_width": null,
            "order": null,
            "_view_module_version": "1.2.0",
            "grid_template_areas": null,
            "object_position": null,
            "object_fit": null,
            "grid_auto_columns": null,
            "margin": null,
            "display": null,
            "left": null
          }
        }
      }
    }
  },
  "cells": [
    {
      "cell_type": "markdown",
      "metadata": {
        "id": "MA9RM9P6JUyK",
        "colab_type": "text"
      },
      "source": [
        "**PyTorchニューラルネットワーク実装ハンドブック**\n",
        "\n",
        "**3-1. 基本的なニューラルネットワークを使った画像分類**\n",
        "\n",
        "\tMLPネットワークでの画像分類をPyTorchで実装する際のステップ\n",
        "\t\n",
        "\t1. データ読み込み\n",
        "\t2. ネットワーク定義\n",
        "\t3. 損失関数\n",
        "\t4. 最適化関数\n",
        "\t5. 学習\n",
        "\t6. 推論"
      ]
    },
    {
      "cell_type": "code",
      "metadata": {
        "id": "YNNzI3Nei5_R",
        "colab_type": "code",
        "colab": {}
      },
      "source": [
        "#colabを使う方はこちらを使用ください。\n",
        "#!pip install torch==0.4.1\n",
        "#!pip install torchvision==0.2.1\n",
        "#!pip install numpy==1.14.6\n",
        "#!pip install matplotlib==2.1.2\n",
        "#!pip install pillow==5.0.0\n",
        "#!pip install opencv-python==3.4.3.18"
      ],
      "execution_count": 0,
      "outputs": []
    },
    {
      "cell_type": "code",
      "metadata": {
        "id": "_6qBFEEYYwy8",
        "colab_type": "code",
        "colab": {}
      },
      "source": [
        "import torch\n",
        "import torchvision\n",
        "import torch.nn as nn\n",
        "import torch.optim as optim\n",
        "import torch.nn.functional as F\n",
        "import torchvision.transforms as transforms\n",
        "%matplotlib inline\n",
        "import numpy as np\n",
        "from matplotlib import pyplot as plt"
      ],
      "execution_count": 0,
      "outputs": []
    },
    {
      "cell_type": "markdown",
      "metadata": {
        "id": "2jl3gAMtKwVZ",
        "colab_type": "text"
      },
      "source": [
        "# CIFAR-10をMLPで画像分類\n",
        "\n",
        "## データの読み込み"
      ]
    },
    {
      "cell_type": "code",
      "metadata": {
        "id": "iKImy2BUFhsV",
        "colab_type": "code",
        "outputId": "8b9dbfed-f09c-458e-ab40-f4d5069f2323",
        "colab": {
          "base_uri": "https://localhost:8080/",
          "height": 100,
          "referenced_widgets": [
            "01237303bc4e480a98d11f092cf74618",
            "cfdd335ae1334b8a989e6dd07fece54d",
            "c730ea57adb24f7c9865ab95de32d6a5",
            "f127dbdf31da408ebfadabdc0615d1ef",
            "36807cfce9b6446f8527ba07b3157f1e",
            "4fa848227ef34ce18b411ca61f2c7fbd",
            "854ccefca4994df7b85e93e45a662685",
            "bab4cb883fe745dca1eff27df90a1ae0"
          ]
        }
      },
      "source": [
        "train_dataset = torchvision.datasets.CIFAR10(root='./data/',\n",
        "                                             train=True, \n",
        "                                             transform=transforms.ToTensor(),\n",
        "                                             download=True)\n",
        "test_dataset = torchvision.datasets.CIFAR10(root='./data/',\n",
        "                                             train=False, \n",
        "                                             transform=transforms.ToTensor(),\n",
        "                                             download=True)"
      ],
      "execution_count": 3,
      "outputs": [
        {
          "output_type": "stream",
          "text": [
            "Downloading https://www.cs.toronto.edu/~kriz/cifar-10-python.tar.gz to ./data/cifar-10-python.tar.gz\n"
          ],
          "name": "stdout"
        },
        {
          "output_type": "display_data",
          "data": {
            "application/vnd.jupyter.widget-view+json": {
              "model_id": "01237303bc4e480a98d11f092cf74618",
              "version_minor": 0,
              "version_major": 2
            },
            "text/plain": [
              "HBox(children=(IntProgress(value=1, bar_style='info', max=1), HTML(value='')))"
            ]
          },
          "metadata": {
            "tags": []
          }
        },
        {
          "output_type": "stream",
          "text": [
            "Extracting ./data/cifar-10-python.tar.gz to ./data/\n",
            "Files already downloaded and verified\n"
          ],
          "name": "stdout"
        }
      ]
    },
    {
      "cell_type": "markdown",
      "metadata": {
        "id": "GZEJyMNz3l5M",
        "colab_type": "text"
      },
      "source": [
        "ニューラルネットワークに入力するデータはTensorにする必要がある。\n",
        "\n",
        "CIFAR-10のデータセットを取得するとPyTorchのTensor型になっていることが確認できる。\n",
        "\n",
        "train_datasetには画像と正解ラベルのデータのペアのリストが格納されている。\n",
        "\n",
        "train_datasetの1個目のデータに対してsize()を使用してTensorの形状を表示しています。\n",
        "\n",
        "CIFAR-10は32X32、RGB3チャンネルなので、(3, 32, 32)の形状となり、取り出した最初の画像は正解ラベルが6であることを示している。"
      ]
    },
    {
      "cell_type": "markdown",
      "metadata": {
        "id": "yGprTzW06MwR",
        "colab_type": "text"
      },
      "source": [
        "**CIFAR-10の特徴**\n",
        "* 80 million tiny imagesのサブセット\n",
        "* 全部で60000枚\n",
        "* 画像サイズは32ピクセルx32ピクセル\n",
        "* RGBの3チャンネルカラー画像\n",
        "* クラスラベルはairplane, automobile, bird, cat, deer, dog, frog, horse, ship, truckで10クラス\n",
        "* 50000枚（各クラス5000枚）の訓練画像と10000枚（各クラス1000枚）のテスト画像に分割されている\n",
        "* クラスラベルは排他的\n",
        "* PythonのcPickle形式で提供されている\n",
        "\n"
      ]
    },
    {
      "cell_type": "code",
      "metadata": {
        "id": "6dxJ19E3Fs90",
        "colab_type": "code",
        "outputId": "9145cb14-004f-4bdc-cf19-27a1b3074499",
        "colab": {
          "base_uri": "https://localhost:8080/",
          "height": 51
        }
      },
      "source": [
        "image, label = train_dataset[0]\n",
        "print (image.size())\n",
        "print (label)"
      ],
      "execution_count": 4,
      "outputs": [
        {
          "output_type": "stream",
          "text": [
            "torch.Size([3, 32, 32])\n",
            "6\n"
          ],
          "name": "stdout"
        }
      ]
    },
    {
      "cell_type": "code",
      "metadata": {
        "id": "eDKemNkqFuud",
        "colab_type": "code",
        "colab": {}
      },
      "source": [
        "# PyTorchでデータを読み込むにはDataSetと、DataLoaderを使うと便利。\n",
        "# Datasetが画像と正解ラベルのペアを返却する。\n",
        "# DataLoaderはバッチサイズだけの画像と正解ラベルをDataSetから取り出す。\n",
        "# batch_sizeを64にしている。バッチサイズごとにまとまったデータを返しながら学習や検証のコードを書いていく。\n",
        "\n",
        "train_loader = torch.utils.data.DataLoader(dataset=train_dataset,\n",
        "                                           batch_size=64, \n",
        "                                           shuffle=True,\n",
        "                                          num_workers=2)\n",
        "test_loader = torch.utils.data.DataLoader(dataset=test_dataset,\n",
        "                                           batch_size=64, \n",
        "                                           shuffle=False,\n",
        "                                         num_workers=2)"
      ],
      "execution_count": 0,
      "outputs": []
    },
    {
      "cell_type": "code",
      "metadata": {
        "id": "4xApKVWIfXqr",
        "colab_type": "code",
        "outputId": "c35b4ab6-4c8c-4b72-a167-5a2b556d3fb2",
        "colab": {
          "base_uri": "https://localhost:8080/",
          "height": 68
        }
      },
      "source": [
        "#i = 0\n",
        "for images, labels in train_loader:\n",
        "    print(images.size())\n",
        "    print(images[0].size())\n",
        "    print(labels.size())\n",
        "    #print(i)\n",
        "    #i = i+1\n",
        "    # ここに訓練用のコードを書く\n",
        "    break"
      ],
      "execution_count": 6,
      "outputs": [
        {
          "output_type": "stream",
          "text": [
            "torch.Size([64, 3, 32, 32])\n",
            "torch.Size([3, 32, 32])\n",
            "torch.Size([64])\n"
          ],
          "name": "stdout"
        }
      ]
    },
    {
      "cell_type": "markdown",
      "metadata": {
        "id": "EpSUKQef_JPy",
        "colab_type": "text"
      },
      "source": [
        "### 分類問題の正解ラベル  \n",
        "分類問題を扱うとき正解ラベルのカテゴリカル変数はワンホット形式に変換する必要はない。  \n",
        "ただし、ネットワークの出力ユニット数はクラス数にする必要がある。  \n"
      ]
    },
    {
      "cell_type": "markdown",
      "metadata": {
        "id": "oIFbrVZ54fND",
        "colab_type": "text"
      },
      "source": [
        "## ネットワークを定義  "
      ]
    },
    {
      "cell_type": "markdown",
      "metadata": {
        "id": "eOJSad1zCAUa",
        "colab_type": "text"
      },
      "source": [
        "* nn.Moduleを継承したMLPネットワークを定義\n",
        "* 隠れ層のユニット数は600。\n",
        "* 隠れ層にドロップアウトを適用\n",
        "* GPUが使える環境か確認"
      ]
    },
    {
      "cell_type": "code",
      "metadata": {
        "id": "N6BK4YCPWxaN",
        "colab_type": "code",
        "colab": {}
      },
      "source": [
        "\n",
        "num_classes = 10\n",
        "\n",
        "class MLPNet (nn.Module):\n",
        "    def __init__(self):\n",
        "        super(MLPNet, self).__init__()\n",
        "        self.fc1 = nn.Linear(32 * 32 * 3, 600)\n",
        "        self.fc2 = nn.Linear(600, 600)\n",
        "        self.fc3 = nn.Linear(600, num_classes)\n",
        "        self.dropout1 = nn.Dropout2d(0.2)\n",
        "        self.dropout2 = nn.Dropout2d(0.2)\n",
        "        \n",
        "    def forward(self, x):\n",
        "        x = F.relu(self.fc1(x))\n",
        "        x = self.dropout1(x)\n",
        "        x = F.relu(self.fc2(x))\n",
        "        x = self.dropout2(x)\n",
        "        return F.relu(self.fc3(x))\n",
        "\n",
        "device = 'cuda' if torch.cuda.is_available() else 'cpu'\n",
        "net = MLPNet().to(device)"
      ],
      "execution_count": 0,
      "outputs": []
    },
    {
      "cell_type": "markdown",
      "metadata": {
        "id": "5q70A7ay4ksM",
        "colab_type": "text"
      },
      "source": [
        "## 損失関数と最適化関数"
      ]
    },
    {
      "cell_type": "code",
      "metadata": {
        "id": "Z8CZzhwHFw3U",
        "colab_type": "code",
        "colab": {}
      },
      "source": [
        "criterion = nn.CrossEntropyLoss()\n",
        "optimizer = optim.SGD(net.parameters(), lr=0.01, momentum=0.9, weight_decay=5e-4)"
      ],
      "execution_count": 0,
      "outputs": []
    },
    {
      "cell_type": "markdown",
      "metadata": {
        "id": "8lbMYq0D4may",
        "colab_type": "text"
      },
      "source": [
        "## 訓練"
      ]
    },
    {
      "cell_type": "code",
      "metadata": {
        "id": "lg6XX3VQOOTX",
        "colab_type": "code",
        "outputId": "a5219232-9698-4901-b1f4-2fa53e234fe8",
        "colab": {
          "base_uri": "https://localhost:8080/",
          "height": 867
        }
      },
      "source": [
        "#50エポック\n",
        "num_epochs = 50\n",
        "\n",
        "#最後にlossとaccuracyのグラフをプロットするためのリスト\n",
        "train_loss_list = []\n",
        "train_acc_list = []\n",
        "val_loss_list = []\n",
        "val_acc_list = []\n",
        "\n",
        "for epoch in range(num_epochs):\n",
        "    #エポックごとに初期化\n",
        "    train_loss = 0\n",
        "    train_acc = 0\n",
        "    val_loss = 0\n",
        "    val_acc = 0\n",
        "    \n",
        "    #train==============================\n",
        "    #訓練モードへ切り替え\n",
        "    net.train()\n",
        "    #ミニバッチで分割して読み込む\n",
        "    for i, (images, labels) in enumerate(train_loader):\n",
        "      #viewで縦横32ピクセルで3チャンネルの画像を１次元に変換\n",
        "      #toでgpuに転送\n",
        "      images, labels = images.view(-1, 32*32*3).to(device), labels.to(device)\n",
        "\n",
        "      #勾配をリセット\n",
        "      optimizer.zero_grad()\n",
        "      #順伝播の計算\n",
        "      outputs = net(images)\n",
        "      #lossの計算\n",
        "      loss = criterion(outputs, labels)\n",
        "      #lossのミニバッチ分を溜め込む\n",
        "      train_loss += loss.item()\n",
        "      #accuracyをミニバッチ分を溜め込む\n",
        "      #正解ラベル（labels）と予測値のtop1（outputs.max(1)）が合っている場合に1が返ってきます。\n",
        "      train_acc += (outputs.max(1)[1] == labels).sum().item()\n",
        "      #逆伝播の計算\n",
        "      loss.backward()\n",
        "      #重みの更新\n",
        "      optimizer.step()\n",
        "    #平均lossと平均accuracyを計算\n",
        "    avg_train_loss = train_loss / len(train_loader.dataset)\n",
        "    avg_train_acc = train_acc / len(train_loader.dataset)\n",
        "    \n",
        "    #val==============================\n",
        "    #評価モードへ切り替え\n",
        "    net.eval()\n",
        "    #評価するときに必要のない計算が走らないようにtorch.no_gradを使用しています。\n",
        "    with torch.no_grad():\n",
        "      for images, labels in test_loader:        \n",
        "        images, labels = images.view(-1, 32*32*3).to(device), labels.to(device)\n",
        "        outputs = net(images)\n",
        "        loss = criterion(outputs, labels)\n",
        "        val_loss += loss.item()\n",
        "        val_acc += (outputs.max(1)[1] == labels).sum().item()\n",
        "    avg_val_loss = val_loss / len(test_loader.dataset)\n",
        "    avg_val_acc = val_acc / len(test_loader.dataset)\n",
        "    \n",
        "    #訓練データのlossと検証データのlossとaccuracyをログで出しています。\n",
        "    print ('Epoch [{}/{}], Loss: {loss:.4f}, val_loss: {val_loss:.4f}, val_acc: {val_acc:.4f}' \n",
        "                   .format(epoch+1, num_epochs, i+1, loss=avg_train_loss, val_loss=avg_val_loss, val_acc=avg_val_acc))\n",
        "    #最後にグラフをプロットするようにリストに格納\n",
        "    train_loss_list.append(avg_train_loss)\n",
        "    train_acc_list.append(avg_train_acc)\n",
        "    val_loss_list.append(avg_val_loss)\n",
        "    val_acc_list.append(avg_val_acc)"
      ],
      "execution_count": 9,
      "outputs": [
        {
          "output_type": "stream",
          "text": [
            "Epoch [1/50], Loss: 0.0319, val_loss: 0.0280, val_acc: 0.3595\n",
            "Epoch [2/50], Loss: 0.0277, val_loss: 0.0272, val_acc: 0.3774\n",
            "Epoch [3/50], Loss: 0.0267, val_loss: 0.0256, val_acc: 0.4239\n",
            "Epoch [4/50], Loss: 0.0258, val_loss: 0.0245, val_acc: 0.4463\n",
            "Epoch [5/50], Loss: 0.0252, val_loss: 0.0254, val_acc: 0.4148\n",
            "Epoch [6/50], Loss: 0.0247, val_loss: 0.0238, val_acc: 0.4563\n",
            "Epoch [7/50], Loss: 0.0243, val_loss: 0.0237, val_acc: 0.4606\n",
            "Epoch [8/50], Loss: 0.0239, val_loss: 0.0233, val_acc: 0.4668\n",
            "Epoch [9/50], Loss: 0.0236, val_loss: 0.0236, val_acc: 0.4543\n",
            "Epoch [10/50], Loss: 0.0234, val_loss: 0.0233, val_acc: 0.4596\n",
            "Epoch [11/50], Loss: 0.0230, val_loss: 0.0223, val_acc: 0.4980\n",
            "Epoch [12/50], Loss: 0.0228, val_loss: 0.0238, val_acc: 0.4506\n",
            "Epoch [13/50], Loss: 0.0227, val_loss: 0.0224, val_acc: 0.4986\n",
            "Epoch [14/50], Loss: 0.0223, val_loss: 0.0220, val_acc: 0.4964\n",
            "Epoch [15/50], Loss: 0.0224, val_loss: 0.0221, val_acc: 0.4989\n",
            "Epoch [16/50], Loss: 0.0221, val_loss: 0.0218, val_acc: 0.5006\n",
            "Epoch [17/50], Loss: 0.0219, val_loss: 0.0222, val_acc: 0.4878\n",
            "Epoch [18/50], Loss: 0.0218, val_loss: 0.0219, val_acc: 0.5025\n",
            "Epoch [19/50], Loss: 0.0216, val_loss: 0.0224, val_acc: 0.4736\n",
            "Epoch [20/50], Loss: 0.0216, val_loss: 0.0214, val_acc: 0.5129\n",
            "Epoch [21/50], Loss: 0.0214, val_loss: 0.0224, val_acc: 0.4849\n",
            "Epoch [22/50], Loss: 0.0213, val_loss: 0.0220, val_acc: 0.5019\n",
            "Epoch [23/50], Loss: 0.0211, val_loss: 0.0217, val_acc: 0.5046\n",
            "Epoch [24/50], Loss: 0.0209, val_loss: 0.0212, val_acc: 0.5130\n",
            "Epoch [25/50], Loss: 0.0209, val_loss: 0.0213, val_acc: 0.5183\n",
            "Epoch [26/50], Loss: 0.0207, val_loss: 0.0213, val_acc: 0.5077\n",
            "Epoch [27/50], Loss: 0.0206, val_loss: 0.0216, val_acc: 0.5095\n",
            "Epoch [28/50], Loss: 0.0206, val_loss: 0.0211, val_acc: 0.5208\n",
            "Epoch [29/50], Loss: 0.0205, val_loss: 0.0208, val_acc: 0.5318\n",
            "Epoch [30/50], Loss: 0.0203, val_loss: 0.0212, val_acc: 0.5230\n",
            "Epoch [31/50], Loss: 0.0202, val_loss: 0.0210, val_acc: 0.5257\n",
            "Epoch [32/50], Loss: 0.0202, val_loss: 0.0215, val_acc: 0.5135\n",
            "Epoch [33/50], Loss: 0.0201, val_loss: 0.0207, val_acc: 0.5305\n",
            "Epoch [34/50], Loss: 0.0201, val_loss: 0.0211, val_acc: 0.5216\n",
            "Epoch [35/50], Loss: 0.0200, val_loss: 0.0210, val_acc: 0.5290\n",
            "Epoch [36/50], Loss: 0.0199, val_loss: 0.0208, val_acc: 0.5244\n",
            "Epoch [37/50], Loss: 0.0198, val_loss: 0.0209, val_acc: 0.5283\n",
            "Epoch [38/50], Loss: 0.0198, val_loss: 0.0205, val_acc: 0.5313\n",
            "Epoch [39/50], Loss: 0.0195, val_loss: 0.0209, val_acc: 0.5235\n",
            "Epoch [40/50], Loss: 0.0197, val_loss: 0.0208, val_acc: 0.5271\n",
            "Epoch [41/50], Loss: 0.0195, val_loss: 0.0209, val_acc: 0.5245\n",
            "Epoch [42/50], Loss: 0.0194, val_loss: 0.0207, val_acc: 0.5228\n",
            "Epoch [43/50], Loss: 0.0194, val_loss: 0.0212, val_acc: 0.5240\n",
            "Epoch [44/50], Loss: 0.0195, val_loss: 0.0207, val_acc: 0.5296\n",
            "Epoch [45/50], Loss: 0.0193, val_loss: 0.0210, val_acc: 0.5211\n",
            "Epoch [46/50], Loss: 0.0192, val_loss: 0.0208, val_acc: 0.5290\n",
            "Epoch [47/50], Loss: 0.0192, val_loss: 0.0205, val_acc: 0.5349\n",
            "Epoch [48/50], Loss: 0.0193, val_loss: 0.0208, val_acc: 0.5270\n",
            "Epoch [49/50], Loss: 0.0191, val_loss: 0.0205, val_acc: 0.5349\n",
            "Epoch [50/50], Loss: 0.0190, val_loss: 0.0203, val_acc: 0.5411\n"
          ],
          "name": "stdout"
        }
      ]
    },
    {
      "cell_type": "markdown",
      "metadata": {
        "id": "NY1Glq4H4o-k",
        "colab_type": "text"
      },
      "source": [
        "## 結果をプロット"
      ]
    },
    {
      "cell_type": "code",
      "metadata": {
        "id": "oZcIL3SdOckB",
        "colab_type": "code",
        "outputId": "d894f0aa-5bfd-4e7c-a4f8-2e03b519c17c",
        "colab": {
          "base_uri": "https://localhost:8080/",
          "height": 573
        }
      },
      "source": [
        "import matplotlib.pyplot as plt\n",
        "%matplotlib inline\n",
        "\n",
        "plt.figure()\n",
        "plt.plot(range(num_epochs), train_loss_list, color='blue', linestyle='-', label='train_loss')\n",
        "plt.plot(range(num_epochs), val_loss_list, color='green', linestyle='--', label='val_loss')\n",
        "plt.legend()\n",
        "plt.xlabel('epoch')\n",
        "plt.ylabel('loss')\n",
        "plt.title('Training and validation loss')\n",
        "plt.grid()\n",
        "\n",
        "plt.figure()\n",
        "plt.plot(range(num_epochs), train_acc_list, color='blue', linestyle='-', label='train_acc')\n",
        "plt.plot(range(num_epochs), val_acc_list, color='green', linestyle='--', label='val_acc')\n",
        "plt.legend()\n",
        "plt.xlabel('epoch')\n",
        "plt.ylabel('acc')\n",
        "plt.title('Training and validation accuracy')\n",
        "plt.grid()"
      ],
      "execution_count": 10,
      "outputs": [
        {
          "output_type": "display_data",
          "data": {
            "image/png": "[encoded data removed]",
            "text/plain": [
              "<Figure size 432x288 with 1 Axes>"
            ]
          },
          "metadata": {
            "tags": []
          }
        },
        {
          "output_type": "display_data",
          "data": {
            "image/png": "[encoded data removed]",
            "text/plain": [
              "<Figure size 432x288 with 1 Axes>"
            ]
          },
          "metadata": {
            "tags": []
          }
        }
      ]
    },
    {
      "cell_type": "code",
      "metadata": {
        "id": "i9Tt4Xoq3P1f",
        "colab_type": "code",
        "colab": {}
      },
      "source": [
        "# ネットワークを保存する\n",
        "torch.save(net.state_dict(), 'net.ckpt')"
      ],
      "execution_count": 0,
      "outputs": []
    },
    {
      "cell_type": "code",
      "metadata": {
        "id": "-IjgKyrXR95k",
        "colab_type": "code",
        "colab": {
          "base_uri": "https://localhost:8080/",
          "height": 34
        },
        "outputId": "cc553069-1472-4f63-b00e-d91c32e1d565"
      },
      "source": [
        "# ネットワークを読み込む\n",
        "net2 = MLPNet().to(device)\n",
        "net2.load_state_dict(torch.load('net.ckpt'))"
      ],
      "execution_count": 12,
      "outputs": [
        {
          "output_type": "execute_result",
          "data": {
            "text/plain": [
              "<All keys matched successfully>"
            ]
          },
          "metadata": {
            "tags": []
          },
          "execution_count": 12
        }
      ]
    },
    {
      "cell_type": "markdown",
      "metadata": {
        "id": "Bedn5L9I4LQP",
        "colab_type": "text"
      },
      "source": [
        "## 推論"
      ]
    },
    {
      "cell_type": "code",
      "metadata": {
        "id": "udcqZxT33thp",
        "colab_type": "code",
        "outputId": "2dcdc728-4e75-4953-b2d8-f47ed41c2d7e",
        "colab": {
          "base_uri": "https://localhost:8080/",
          "height": 34
        }
      },
      "source": [
        "net2.eval()\n",
        "with torch.no_grad():\n",
        "    total = 0\n",
        "    test_acc = 0\n",
        "    for images, labels in test_loader:        \n",
        "        images, labels = images.view(-1, 32*32*3).to(device), labels.to(device)\n",
        "        outputs = net2(images)\n",
        "        test_acc += (outputs.max(1)[1] == labels).sum().item()\n",
        "        total += labels.size(0)\n",
        "    print('精度: {} %'.format(100 * test_acc / total)) "
      ],
      "execution_count": 13,
      "outputs": [
        {
          "output_type": "stream",
          "text": [
            "精度: 54.11 %\n"
          ],
          "name": "stdout"
        }
      ]
    },
    {
      "cell_type": "markdown",
      "metadata": {
        "id": "Mv2fG6XdEX33",
        "colab_type": "text"
      },
      "source": [
        "下図グラフを見ると、訓練終了時でも正解率は60%にも達していない。\n",
        "CIFAR-10をMLPで分類するとあまりいい正解率にはなっていない。"
      ]
    },
    {
      "cell_type": "code",
      "metadata": {
        "id": "Wn4DpOX76gv0",
        "colab_type": "code",
        "colab": {}
      },
      "source": [
        ""
      ],
      "execution_count": 0,
      "outputs": []
    }
  ]
}