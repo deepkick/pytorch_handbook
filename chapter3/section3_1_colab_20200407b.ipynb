{
  "nbformat": 4,
  "nbformat_minor": 0,
  "metadata": {
    "colab": {
      "name": "section3_1_colab.ipynb",
      "provenance": [],
      "collapsed_sections": [],
      "toc_visible": true
    },
    "kernelspec": {
      "name": "python3",
      "display_name": "Python 3"
    },
    "accelerator": "GPU",
    "widgets": {
      "application/vnd.jupyter.widget-state+json": {
        "35abf881c06e49878c35b9a697cfdecb": {
          "model_module": "@jupyter-widgets/controls",
          "model_name": "HBoxModel",
          "state": {
            "_view_name": "HBoxView",
            "_dom_classes": [],
            "_model_name": "HBoxModel",
            "_view_module": "@jupyter-widgets/controls",
            "_model_module_version": "1.5.0",
            "_view_count": null,
            "_view_module_version": "1.5.0",
            "box_style": "",
            "layout": "IPY_MODEL_c755453795de4abba011d0ddeb629b3c",
            "_model_module": "@jupyter-widgets/controls",
            "children": [
              "IPY_MODEL_c4b4497d4c19478bb1abc604daa7ea8c",
              "IPY_MODEL_099c1e7b76784de79e44782f1af136c2"
            ]
          }
        },
        "c755453795de4abba011d0ddeb629b3c": {
          "model_module": "@jupyter-widgets/base",
          "model_name": "LayoutModel",
          "state": {
            "_view_name": "LayoutView",
            "grid_template_rows": null,
            "right": null,
            "justify_content": null,
            "_view_module": "@jupyter-widgets/base",
            "overflow": null,
            "_model_module_version": "1.2.0",
            "_view_count": null,
            "flex_flow": null,
            "width": null,
            "min_width": null,
            "border": null,
            "align_items": null,
            "bottom": null,
            "_model_module": "@jupyter-widgets/base",
            "top": null,
            "grid_column": null,
            "overflow_y": null,
            "overflow_x": null,
            "grid_auto_flow": null,
            "grid_area": null,
            "grid_template_columns": null,
            "flex": null,
            "_model_name": "LayoutModel",
            "justify_items": null,
            "grid_row": null,
            "max_height": null,
            "align_content": null,
            "visibility": null,
            "align_self": null,
            "height": null,
            "min_height": null,
            "padding": null,
            "grid_auto_rows": null,
            "grid_gap": null,
            "max_width": null,
            "order": null,
            "_view_module_version": "1.2.0",
            "grid_template_areas": null,
            "object_position": null,
            "object_fit": null,
            "grid_auto_columns": null,
            "margin": null,
            "display": null,
            "left": null
          }
        },
        "c4b4497d4c19478bb1abc604daa7ea8c": {
          "model_module": "@jupyter-widgets/controls",
          "model_name": "IntProgressModel",
          "state": {
            "_view_name": "ProgressView",
            "style": "IPY_MODEL_019363b473b9493bab57cb58121c10d2",
            "_dom_classes": [],
            "description": "",
            "_model_name": "IntProgressModel",
            "bar_style": "info",
            "max": 1,
            "_view_module": "@jupyter-widgets/controls",
            "_model_module_version": "1.5.0",
            "value": 1,
            "_view_count": null,
            "_view_module_version": "1.5.0",
            "orientation": "horizontal",
            "min": 0,
            "description_tooltip": null,
            "_model_module": "@jupyter-widgets/controls",
            "layout": "IPY_MODEL_8948c0c215664023bf079688028abfff"
          }
        },
        "099c1e7b76784de79e44782f1af136c2": {
          "model_module": "@jupyter-widgets/controls",
          "model_name": "HTMLModel",
          "state": {
            "_view_name": "HTMLView",
            "style": "IPY_MODEL_d632fc7827354013b28d3eab26ebc2fe",
            "_dom_classes": [],
            "description": "",
            "_model_name": "HTMLModel",
            "placeholder": "​",
            "_view_module": "@jupyter-widgets/controls",
            "_model_module_version": "1.5.0",
            "value": " 170500096/? [00:20&lt;00:00, 32255353.14it/s]",
            "_view_count": null,
            "_view_module_version": "1.5.0",
            "description_tooltip": null,
            "_model_module": "@jupyter-widgets/controls",
            "layout": "IPY_MODEL_941c6ebaa5f9429e98704a1daabc7111"
          }
        },
        "019363b473b9493bab57cb58121c10d2": {
          "model_module": "@jupyter-widgets/controls",
          "model_name": "ProgressStyleModel",
          "state": {
            "_view_name": "StyleView",
            "_model_name": "ProgressStyleModel",
            "description_width": "initial",
            "_view_module": "@jupyter-widgets/base",
            "_model_module_version": "1.5.0",
            "_view_count": null,
            "_view_module_version": "1.2.0",
            "bar_color": null,
            "_model_module": "@jupyter-widgets/controls"
          }
        },
        "8948c0c215664023bf079688028abfff": {
          "model_module": "@jupyter-widgets/base",
          "model_name": "LayoutModel",
          "state": {
            "_view_name": "LayoutView",
            "grid_template_rows": null,
            "right": null,
            "justify_content": null,
            "_view_module": "@jupyter-widgets/base",
            "overflow": null,
            "_model_module_version": "1.2.0",
            "_view_count": null,
            "flex_flow": null,
            "width": null,
            "min_width": null,
            "border": null,
            "align_items": null,
            "bottom": null,
            "_model_module": "@jupyter-widgets/base",
            "top": null,
            "grid_column": null,
            "overflow_y": null,
            "overflow_x": null,
            "grid_auto_flow": null,
            "grid_area": null,
            "grid_template_columns": null,
            "flex": null,
            "_model_name": "LayoutModel",
            "justify_items": null,
            "grid_row": null,
            "max_height": null,
            "align_content": null,
            "visibility": null,
            "align_self": null,
            "height": null,
            "min_height": null,
            "padding": null,
            "grid_auto_rows": null,
            "grid_gap": null,
            "max_width": null,
            "order": null,
            "_view_module_version": "1.2.0",
            "grid_template_areas": null,
            "object_position": null,
            "object_fit": null,
            "grid_auto_columns": null,
            "margin": null,
            "display": null,
            "left": null
          }
        },
        "d632fc7827354013b28d3eab26ebc2fe": {
          "model_module": "@jupyter-widgets/controls",
          "model_name": "DescriptionStyleModel",
          "state": {
            "_view_name": "StyleView",
            "_model_name": "DescriptionStyleModel",
            "description_width": "",
            "_view_module": "@jupyter-widgets/base",
            "_model_module_version": "1.5.0",
            "_view_count": null,
            "_view_module_version": "1.2.0",
            "_model_module": "@jupyter-widgets/controls"
          }
        },
        "941c6ebaa5f9429e98704a1daabc7111": {
          "model_module": "@jupyter-widgets/base",
          "model_name": "LayoutModel",
          "state": {
            "_view_name": "LayoutView",
            "grid_template_rows": null,
            "right": null,
            "justify_content": null,
            "_view_module": "@jupyter-widgets/base",
            "overflow": null,
            "_model_module_version": "1.2.0",
            "_view_count": null,
            "flex_flow": null,
            "width": null,
            "min_width": null,
            "border": null,
            "align_items": null,
            "bottom": null,
            "_model_module": "@jupyter-widgets/base",
            "top": null,
            "grid_column": null,
            "overflow_y": null,
            "overflow_x": null,
            "grid_auto_flow": null,
            "grid_area": null,
            "grid_template_columns": null,
            "flex": null,
            "_model_name": "LayoutModel",
            "justify_items": null,
            "grid_row": null,
            "max_height": null,
            "align_content": null,
            "visibility": null,
            "align_self": null,
            "height": null,
            "min_height": null,
            "padding": null,
            "grid_auto_rows": null,
            "grid_gap": null,
            "max_width": null,
            "order": null,
            "_view_module_version": "1.2.0",
            "grid_template_areas": null,
            "object_position": null,
            "object_fit": null,
            "grid_auto_columns": null,
            "margin": null,
            "display": null,
            "left": null
          }
        }
      }
    }
  },
  "cells": [
    {
      "cell_type": "markdown",
      "metadata": {
        "id": "MA9RM9P6JUyK",
        "colab_type": "text"
      },
      "source": [
        "**PyTorchニューラルネットワーク実装ハンドブック**\n",
        "\n",
        "**3-1. 基本的なニューラルネットワークを使った画像分類**\n",
        "\n",
        "\tMLPネットワークでの画像分類をPyTorchで実装する際のステップ\n",
        "\t\n",
        "\t1. データ読み込み\n",
        "\t2. ネットワーク定義\n",
        "\t3. 損失関数\n",
        "\t4. 最適化関数\n",
        "\t5. 学習\n",
        "\t6. 推論"
      ]
    },
    {
      "cell_type": "code",
      "metadata": {
        "id": "YNNzI3Nei5_R",
        "colab_type": "code",
        "colab": {}
      },
      "source": [
        "#colabを使う方はこちらを使用ください。\n",
        "#!pip install torch==0.4.1\n",
        "#!pip install torchvision==0.2.1\n",
        "#!pip install numpy==1.14.6\n",
        "#!pip install matplotlib==2.1.2\n",
        "#!pip install pillow==5.0.0\n",
        "#!pip install opencv-python==3.4.3.18"
      ],
      "execution_count": 0,
      "outputs": []
    },
    {
      "cell_type": "code",
      "metadata": {
        "id": "_6qBFEEYYwy8",
        "colab_type": "code",
        "colab": {}
      },
      "source": [
        "import torch\n",
        "import torchvision\n",
        "import torch.nn as nn\n",
        "import torch.optim as optim\n",
        "import torch.nn.functional as F\n",
        "import torchvision.transforms as transforms\n",
        "%matplotlib inline\n",
        "import numpy as np\n",
        "from matplotlib import pyplot as plt"
      ],
      "execution_count": 0,
      "outputs": []
    },
    {
      "cell_type": "markdown",
      "metadata": {
        "id": "2jl3gAMtKwVZ",
        "colab_type": "text"
      },
      "source": [
        "# CIFAR-10をMLPで画像分類\n",
        "\n",
        "## データの読み込み"
      ]
    },
    {
      "cell_type": "code",
      "metadata": {
        "id": "iKImy2BUFhsV",
        "colab_type": "code",
        "outputId": "b9f0575c-0900-4f8b-ba22-8bf1cd352f5a",
        "colab": {
          "base_uri": "https://localhost:8080/",
          "height": 100,
          "referenced_widgets": [
            "35abf881c06e49878c35b9a697cfdecb",
            "c755453795de4abba011d0ddeb629b3c",
            "c4b4497d4c19478bb1abc604daa7ea8c",
            "099c1e7b76784de79e44782f1af136c2",
            "019363b473b9493bab57cb58121c10d2",
            "8948c0c215664023bf079688028abfff",
            "d632fc7827354013b28d3eab26ebc2fe",
            "941c6ebaa5f9429e98704a1daabc7111"
          ]
        }
      },
      "source": [
        "train_dataset = torchvision.datasets.CIFAR10(root='./data/',\n",
        "                                             train=True, \n",
        "                                             transform=transforms.ToTensor(),\n",
        "                                             download=True)\n",
        "test_dataset = torchvision.datasets.CIFAR10(root='./data/',\n",
        "                                             train=False, \n",
        "                                             transform=transforms.ToTensor(),\n",
        "                                             download=True)"
      ],
      "execution_count": 3,
      "outputs": [
        {
          "output_type": "stream",
          "text": [
            "Downloading https://www.cs.toronto.edu/~kriz/cifar-10-python.tar.gz to ./data/cifar-10-python.tar.gz\n"
          ],
          "name": "stdout"
        },
        {
          "output_type": "display_data",
          "data": {
            "application/vnd.jupyter.widget-view+json": {
              "model_id": "35abf881c06e49878c35b9a697cfdecb",
              "version_minor": 0,
              "version_major": 2
            },
            "text/plain": [
              "HBox(children=(IntProgress(value=1, bar_style='info', max=1), HTML(value='')))"
            ]
          },
          "metadata": {
            "tags": []
          }
        },
        {
          "output_type": "stream",
          "text": [
            "Extracting ./data/cifar-10-python.tar.gz to ./data/\n",
            "Files already downloaded and verified\n"
          ],
          "name": "stdout"
        }
      ]
    },
    {
      "cell_type": "markdown",
      "metadata": {
        "id": "GZEJyMNz3l5M",
        "colab_type": "text"
      },
      "source": [
        "ニューラルネットワークに入力するデータはTensorにする必要がある。\n",
        "\n",
        "CIFAR-10のデータセットを取得するとPyTorchのTensor型になっていることが確認できる。\n",
        "\n",
        "train_datasetには画像と正解ラベルのデータのペアのリストが格納されている。\n",
        "\n",
        "train_datasetの1個目のデータに対してsize()を使用してTensorの形状を表示しています。\n",
        "\n",
        "CIFAR-10は32X32、RGB3チャンネルなので、(3, 32, 32)の形状となり、取り出した最初の画像は正解ラベルが6であることを示している。"
      ]
    },
    {
      "cell_type": "markdown",
      "metadata": {
        "id": "yGprTzW06MwR",
        "colab_type": "text"
      },
      "source": [
        "**CIFAR-10の特徴**\n",
        "* 80 million tiny imagesのサブセット\n",
        "* 全部で60000枚\n",
        "* 画像サイズは32ピクセルx32ピクセル\n",
        "* RGBの3チャンネルカラー画像\n",
        "* クラスラベルはairplane, automobile, bird, cat, deer, dog, frog, horse, ship, truckで10クラス\n",
        "* 50000枚（各クラス5000枚）の訓練画像と10000枚（各クラス1000枚）のテスト画像に分割されている\n",
        "* クラスラベルは排他的\n",
        "* PythonのcPickle形式で提供されている\n",
        "\n"
      ]
    },
    {
      "cell_type": "code",
      "metadata": {
        "id": "6dxJ19E3Fs90",
        "colab_type": "code",
        "outputId": "24488af1-fbe9-42ba-d421-ad47dad4db28",
        "colab": {
          "base_uri": "https://localhost:8080/",
          "height": 51
        }
      },
      "source": [
        "image, label = train_dataset[0]\n",
        "print (image.size())\n",
        "print (label)"
      ],
      "execution_count": 4,
      "outputs": [
        {
          "output_type": "stream",
          "text": [
            "torch.Size([3, 32, 32])\n",
            "6\n"
          ],
          "name": "stdout"
        }
      ]
    },
    {
      "cell_type": "code",
      "metadata": {
        "id": "eDKemNkqFuud",
        "colab_type": "code",
        "colab": {}
      },
      "source": [
        "# PyTorchでデータを読み込むにはDataSetと、DataLoaderを使うと便利。\n",
        "# Datasetが画像と正解ラベルのペアを返却する。\n",
        "# DataLoaderはバッチサイズだけの画像と正解ラベルをDataSetから取り出す。\n",
        "# batch_sizeを64にしている。バッチサイズごとにまとまったデータを返しながら学習や検証のコードを書いていく。\n",
        "\n",
        "train_loader = torch.utils.data.DataLoader(dataset=train_dataset,\n",
        "                                           batch_size=64, \n",
        "                                           shuffle=True,\n",
        "                                          num_workers=2)\n",
        "test_loader = torch.utils.data.DataLoader(dataset=test_dataset,\n",
        "                                           batch_size=64, \n",
        "                                           shuffle=False,\n",
        "                                         num_workers=2)"
      ],
      "execution_count": 0,
      "outputs": []
    },
    {
      "cell_type": "code",
      "metadata": {
        "id": "4xApKVWIfXqr",
        "colab_type": "code",
        "outputId": "db5111e2-5070-497a-bd73-5208bf6e2e25",
        "colab": {
          "base_uri": "https://localhost:8080/",
          "height": 68
        }
      },
      "source": [
        "#i = 0\n",
        "for images, labels in train_loader:\n",
        "    print(images.size())\n",
        "    print(images[0].size())\n",
        "    print(labels.size())\n",
        "    #print(i)\n",
        "    #i = i+1\n",
        "    # ここに訓練用のコードを書く\n",
        "    break"
      ],
      "execution_count": 6,
      "outputs": [
        {
          "output_type": "stream",
          "text": [
            "torch.Size([64, 3, 32, 32])\n",
            "torch.Size([3, 32, 32])\n",
            "torch.Size([64])\n"
          ],
          "name": "stdout"
        }
      ]
    },
    {
      "cell_type": "markdown",
      "metadata": {
        "id": "EpSUKQef_JPy",
        "colab_type": "text"
      },
      "source": [
        "### 分類問題の正解ラベル  \n",
        "分類問題を扱うとき正解ラベルのカテゴリカル変数はワンホット形式に変換する必要はない。  \n",
        "ただし、ネットワークの出力ユニット数はクラス数にする必要がある。  \n"
      ]
    },
    {
      "cell_type": "markdown",
      "metadata": {
        "id": "oIFbrVZ54fND",
        "colab_type": "text"
      },
      "source": [
        "## ネットワークを定義  "
      ]
    },
    {
      "cell_type": "markdown",
      "metadata": {
        "id": "eOJSad1zCAUa",
        "colab_type": "text"
      },
      "source": [
        "* nn.Moduleを継承したMLPネットワークを定義\n",
        "* 隠れ層のユニット数は600。\n",
        "* 隠れ層にドロップアウトを適用\n",
        "* GPUが使える環境か確認"
      ]
    },
    {
      "cell_type": "code",
      "metadata": {
        "id": "N6BK4YCPWxaN",
        "colab_type": "code",
        "colab": {}
      },
      "source": [
        "\n",
        "num_classes = 10\n",
        "\n",
        "class MLPNet (nn.Module):\n",
        "    def __init__(self):\n",
        "        super(MLPNet, self).__init__()\n",
        "        self.fc1 = nn.Linear(32 * 32 * 3, 200)\n",
        "        self.fc2 = nn.Linear(200, 200)\n",
        "        self.fc3 = nn.Linear(200, num_classes)\n",
        "        self.dropout1 = nn.Dropout2d(0.2)\n",
        "        self.dropout2 = nn.Dropout2d(0.2)\n",
        "        \n",
        "    def forward(self, x):\n",
        "        x = F.relu(self.fc1(x))\n",
        "        x = self.dropout1(x)\n",
        "        x = F.relu(self.fc2(x))\n",
        "        x = self.dropout2(x)\n",
        "        return F.relu(self.fc3(x))\n",
        "\n",
        "device = 'cuda' if torch.cuda.is_available() else 'cpu'\n",
        "net = MLPNet().to(device)"
      ],
      "execution_count": 0,
      "outputs": []
    },
    {
      "cell_type": "markdown",
      "metadata": {
        "id": "5q70A7ay4ksM",
        "colab_type": "text"
      },
      "source": [
        "## 損失関数と最適化関数"
      ]
    },
    {
      "cell_type": "code",
      "metadata": {
        "id": "Z8CZzhwHFw3U",
        "colab_type": "code",
        "colab": {}
      },
      "source": [
        "criterion = nn.CrossEntropyLoss()\n",
        "optimizer = optim.SGD(net.parameters(), lr=0.01, momentum=0.9, weight_decay=5e-4)"
      ],
      "execution_count": 0,
      "outputs": []
    },
    {
      "cell_type": "markdown",
      "metadata": {
        "id": "8lbMYq0D4may",
        "colab_type": "text"
      },
      "source": [
        "## 訓練"
      ]
    },
    {
      "cell_type": "code",
      "metadata": {
        "id": "lg6XX3VQOOTX",
        "colab_type": "code",
        "outputId": "489dc9a3-5ad2-4126-b6c6-6dcb9c83f012",
        "colab": {
          "base_uri": "https://localhost:8080/",
          "height": 867
        }
      },
      "source": [
        "#50エポック\n",
        "num_epochs = 50\n",
        "\n",
        "#最後にlossとaccuracyのグラフをプロットするためのリスト\n",
        "train_loss_list = []\n",
        "train_acc_list = []\n",
        "val_loss_list = []\n",
        "val_acc_list = []\n",
        "\n",
        "for epoch in range(num_epochs):\n",
        "    #エポックごとに初期化\n",
        "    train_loss = 0\n",
        "    train_acc = 0\n",
        "    val_loss = 0\n",
        "    val_acc = 0\n",
        "    \n",
        "    #train==============================\n",
        "    #訓練モードへ切り替え\n",
        "    net.train()\n",
        "    #ミニバッチで分割して読み込む\n",
        "    for i, (images, labels) in enumerate(train_loader):\n",
        "      #viewで縦横32ピクセルで3チャンネルの画像を１次元に変換\n",
        "      #toでgpuに転送\n",
        "      images, labels = images.view(-1, 32*32*3).to(device), labels.to(device)\n",
        "\n",
        "      #勾配をリセット\n",
        "      optimizer.zero_grad()\n",
        "      #順伝播の計算\n",
        "      outputs = net(images)\n",
        "      #lossの計算\n",
        "      loss = criterion(outputs, labels)\n",
        "      #lossのミニバッチ分を溜め込む\n",
        "      train_loss += loss.item()\n",
        "      #accuracyをミニバッチ分を溜め込む\n",
        "      #正解ラベル（labels）と予測値のtop1（outputs.max(1)）が合っている場合に1が返ってきます。\n",
        "      train_acc += (outputs.max(1)[1] == labels).sum().item()\n",
        "      #逆伝播の計算\n",
        "      loss.backward()\n",
        "      #重みの更新\n",
        "      optimizer.step()\n",
        "    #平均lossと平均accuracyを計算\n",
        "    avg_train_loss = train_loss / len(train_loader.dataset)\n",
        "    avg_train_acc = train_acc / len(train_loader.dataset)\n",
        "    \n",
        "    #val==============================\n",
        "    #評価モードへ切り替え\n",
        "    net.eval()\n",
        "    #評価するときに必要のない計算が走らないようにtorch.no_gradを使用しています。\n",
        "    with torch.no_grad():\n",
        "      for images, labels in test_loader:        \n",
        "        images, labels = images.view(-1, 32*32*3).to(device), labels.to(device)\n",
        "        outputs = net(images)\n",
        "        loss = criterion(outputs, labels)\n",
        "        val_loss += loss.item()\n",
        "        val_acc += (outputs.max(1)[1] == labels).sum().item()\n",
        "    avg_val_loss = val_loss / len(test_loader.dataset)\n",
        "    avg_val_acc = val_acc / len(test_loader.dataset)\n",
        "    \n",
        "    #訓練データのlossと検証データのlossとaccuracyをログで出しています。\n",
        "    print ('Epoch [{}/{}], Loss: {loss:.4f}, val_loss: {val_loss:.4f}, val_acc: {val_acc:.4f}' \n",
        "                   .format(epoch+1, num_epochs, i+1, loss=avg_train_loss, val_loss=avg_val_loss, val_acc=avg_val_acc))\n",
        "    #最後にグラフをプロットするようにリストに格納\n",
        "    train_loss_list.append(avg_train_loss)\n",
        "    train_acc_list.append(avg_train_acc)\n",
        "    val_loss_list.append(avg_val_loss)\n",
        "    val_acc_list.append(avg_val_acc)"
      ],
      "execution_count": 9,
      "outputs": [
        {
          "output_type": "stream",
          "text": [
            "Epoch [1/50], Loss: 0.0308, val_loss: 0.0281, val_acc: 0.3516\n",
            "Epoch [2/50], Loss: 0.0280, val_loss: 0.0266, val_acc: 0.3952\n",
            "Epoch [3/50], Loss: 0.0269, val_loss: 0.0253, val_acc: 0.4206\n",
            "Epoch [4/50], Loss: 0.0263, val_loss: 0.0257, val_acc: 0.4167\n",
            "Epoch [5/50], Loss: 0.0258, val_loss: 0.0249, val_acc: 0.4282\n",
            "Epoch [6/50], Loss: 0.0254, val_loss: 0.0240, val_acc: 0.4564\n",
            "Epoch [7/50], Loss: 0.0250, val_loss: 0.0238, val_acc: 0.4559\n",
            "Epoch [8/50], Loss: 0.0247, val_loss: 0.0234, val_acc: 0.4694\n",
            "Epoch [9/50], Loss: 0.0245, val_loss: 0.0242, val_acc: 0.4450\n",
            "Epoch [10/50], Loss: 0.0243, val_loss: 0.0238, val_acc: 0.4669\n",
            "Epoch [11/50], Loss: 0.0241, val_loss: 0.0229, val_acc: 0.4815\n",
            "Epoch [12/50], Loss: 0.0239, val_loss: 0.0232, val_acc: 0.4725\n",
            "Epoch [13/50], Loss: 0.0237, val_loss: 0.0230, val_acc: 0.4774\n",
            "Epoch [14/50], Loss: 0.0236, val_loss: 0.0233, val_acc: 0.4636\n",
            "Epoch [15/50], Loss: 0.0235, val_loss: 0.0229, val_acc: 0.4798\n",
            "Epoch [16/50], Loss: 0.0234, val_loss: 0.0229, val_acc: 0.4838\n",
            "Epoch [17/50], Loss: 0.0233, val_loss: 0.0228, val_acc: 0.4816\n",
            "Epoch [18/50], Loss: 0.0231, val_loss: 0.0229, val_acc: 0.4772\n",
            "Epoch [19/50], Loss: 0.0229, val_loss: 0.0230, val_acc: 0.4833\n",
            "Epoch [20/50], Loss: 0.0228, val_loss: 0.0230, val_acc: 0.4768\n",
            "Epoch [21/50], Loss: 0.0229, val_loss: 0.0223, val_acc: 0.4947\n",
            "Epoch [22/50], Loss: 0.0228, val_loss: 0.0233, val_acc: 0.4640\n",
            "Epoch [23/50], Loss: 0.0228, val_loss: 0.0225, val_acc: 0.4840\n",
            "Epoch [24/50], Loss: 0.0227, val_loss: 0.0223, val_acc: 0.4930\n",
            "Epoch [25/50], Loss: 0.0225, val_loss: 0.0224, val_acc: 0.4832\n",
            "Epoch [26/50], Loss: 0.0226, val_loss: 0.0222, val_acc: 0.4969\n",
            "Epoch [27/50], Loss: 0.0225, val_loss: 0.0220, val_acc: 0.5006\n",
            "Epoch [28/50], Loss: 0.0224, val_loss: 0.0222, val_acc: 0.4940\n",
            "Epoch [29/50], Loss: 0.0224, val_loss: 0.0228, val_acc: 0.4842\n",
            "Epoch [30/50], Loss: 0.0223, val_loss: 0.0221, val_acc: 0.4961\n",
            "Epoch [31/50], Loss: 0.0223, val_loss: 0.0222, val_acc: 0.4918\n",
            "Epoch [32/50], Loss: 0.0224, val_loss: 0.0228, val_acc: 0.4806\n",
            "Epoch [33/50], Loss: 0.0223, val_loss: 0.0221, val_acc: 0.4925\n",
            "Epoch [34/50], Loss: 0.0221, val_loss: 0.0219, val_acc: 0.5050\n",
            "Epoch [35/50], Loss: 0.0221, val_loss: 0.0222, val_acc: 0.4929\n",
            "Epoch [36/50], Loss: 0.0219, val_loss: 0.0217, val_acc: 0.5037\n",
            "Epoch [37/50], Loss: 0.0220, val_loss: 0.0219, val_acc: 0.5014\n",
            "Epoch [38/50], Loss: 0.0219, val_loss: 0.0222, val_acc: 0.4975\n",
            "Epoch [39/50], Loss: 0.0219, val_loss: 0.0219, val_acc: 0.5011\n",
            "Epoch [40/50], Loss: 0.0218, val_loss: 0.0213, val_acc: 0.5129\n",
            "Epoch [41/50], Loss: 0.0217, val_loss: 0.0213, val_acc: 0.5102\n",
            "Epoch [42/50], Loss: 0.0218, val_loss: 0.0220, val_acc: 0.4936\n",
            "Epoch [43/50], Loss: 0.0217, val_loss: 0.0217, val_acc: 0.5077\n",
            "Epoch [44/50], Loss: 0.0218, val_loss: 0.0218, val_acc: 0.4943\n",
            "Epoch [45/50], Loss: 0.0217, val_loss: 0.0222, val_acc: 0.4934\n",
            "Epoch [46/50], Loss: 0.0217, val_loss: 0.0223, val_acc: 0.4871\n",
            "Epoch [47/50], Loss: 0.0218, val_loss: 0.0223, val_acc: 0.4884\n",
            "Epoch [48/50], Loss: 0.0217, val_loss: 0.0219, val_acc: 0.5002\n",
            "Epoch [49/50], Loss: 0.0216, val_loss: 0.0219, val_acc: 0.4974\n",
            "Epoch [50/50], Loss: 0.0218, val_loss: 0.0216, val_acc: 0.5097\n"
          ],
          "name": "stdout"
        }
      ]
    },
    {
      "cell_type": "markdown",
      "metadata": {
        "id": "NY1Glq4H4o-k",
        "colab_type": "text"
      },
      "source": [
        "## 結果をプロット"
      ]
    },
    {
      "cell_type": "code",
      "metadata": {
        "id": "oZcIL3SdOckB",
        "colab_type": "code",
        "outputId": "8b7aba56-b32b-4856-9b90-5c28b732e7db",
        "colab": {
          "base_uri": "https://localhost:8080/",
          "height": 573
        }
      },
      "source": [
        "import matplotlib.pyplot as plt\n",
        "%matplotlib inline\n",
        "\n",
        "plt.figure()\n",
        "plt.plot(range(num_epochs), train_loss_list, color='blue', linestyle='-', label='train_loss')\n",
        "plt.plot(range(num_epochs), val_loss_list, color='green', linestyle='--', label='val_loss')\n",
        "plt.legend()\n",
        "plt.xlabel('epoch')\n",
        "plt.ylabel('loss')\n",
        "plt.title('Training and validation loss')\n",
        "plt.grid()\n",
        "\n",
        "plt.figure()\n",
        "plt.plot(range(num_epochs), train_acc_list, color='blue', linestyle='-', label='train_acc')\n",
        "plt.plot(range(num_epochs), val_acc_list, color='green', linestyle='--', label='val_acc')\n",
        "plt.legend()\n",
        "plt.xlabel('epoch')\n",
        "plt.ylabel('acc')\n",
        "plt.title('Training and validation accuracy')\n",
        "plt.grid()"
      ],
      "execution_count": 10,
      "outputs": [
        {
          "output_type": "display_data",
          "data": {
            "image/png": "[encoded data removed]",
            "text/plain": [
              "<Figure size 432x288 with 1 Axes>"
            ]
          },
          "metadata": {
            "tags": []
          }
        },
        {
          "output_type": "display_data",
          "data": {
            "image/png": "[encoded data removed]",
            "text/plain": [
              "<Figure size 432x288 with 1 Axes>"
            ]
          },
          "metadata": {
            "tags": []
          }
        }
      ]
    },
    {
      "cell_type": "code",
      "metadata": {
        "id": "i9Tt4Xoq3P1f",
        "colab_type": "code",
        "colab": {}
      },
      "source": [
        "# ネットワークを保存する\n",
        "torch.save(net.state_dict(), 'net.ckpt')"
      ],
      "execution_count": 0,
      "outputs": []
    },
    {
      "cell_type": "code",
      "metadata": {
        "id": "-IjgKyrXR95k",
        "colab_type": "code",
        "outputId": "b96e3560-57a3-4ec4-eb72-3355b63d4e63",
        "colab": {
          "base_uri": "https://localhost:8080/",
          "height": 34
        }
      },
      "source": [
        "# ネットワークを読み込む\n",
        "net2 = MLPNet().to(device)\n",
        "net2.load_state_dict(torch.load('net.ckpt'))"
      ],
      "execution_count": 12,
      "outputs": [
        {
          "output_type": "execute_result",
          "data": {
            "text/plain": [
              "<All keys matched successfully>"
            ]
          },
          "metadata": {
            "tags": []
          },
          "execution_count": 12
        }
      ]
    },
    {
      "cell_type": "markdown",
      "metadata": {
        "id": "Bedn5L9I4LQP",
        "colab_type": "text"
      },
      "source": [
        "## 推論"
      ]
    },
    {
      "cell_type": "code",
      "metadata": {
        "id": "udcqZxT33thp",
        "colab_type": "code",
        "outputId": "ed38c13c-9e86-474f-e933-e88383b2f49d",
        "colab": {
          "base_uri": "https://localhost:8080/",
          "height": 34
        }
      },
      "source": [
        "net2.eval()\n",
        "with torch.no_grad():\n",
        "    total = 0\n",
        "    test_acc = 0\n",
        "    for images, labels in test_loader:        \n",
        "        images, labels = images.view(-1, 32*32*3).to(device), labels.to(device)\n",
        "        outputs = net2(images)\n",
        "        test_acc += (outputs.max(1)[1] == labels).sum().item()\n",
        "        total += labels.size(0)\n",
        "    print('精度: {} %'.format(100 * test_acc / total)) "
      ],
      "execution_count": 13,
      "outputs": [
        {
          "output_type": "stream",
          "text": [
            "精度: 50.97 %\n"
          ],
          "name": "stdout"
        }
      ]
    },
    {
      "cell_type": "markdown",
      "metadata": {
        "id": "Mv2fG6XdEX33",
        "colab_type": "text"
      },
      "source": [
        "下図グラフを見ると、訓練終了時でも正解率は60%にも達していない。\n",
        "CIFAR-10をMLPで分類するとあまりいい正解率にはなっていない。"
      ]
    },
    {
      "cell_type": "code",
      "metadata": {
        "id": "Wn4DpOX76gv0",
        "colab_type": "code",
        "colab": {}
      },
      "source": [
        ""
      ],
      "execution_count": 0,
      "outputs": []
    }
  ]
}