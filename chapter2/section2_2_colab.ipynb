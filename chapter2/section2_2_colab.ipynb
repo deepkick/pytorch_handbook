{
  "nbformat": 4,
  "nbformat_minor": 0,
  "metadata": {
    "colab": {
      "name": "section2_2.ipynb",
      "provenance": [],
      "collapsed_sections": [
        "ZosZrzKm5_23",
        "w7UN-kgy6G3k",
        "LDChx4F_I20u",
        "bK_HVyWj0T2E",
        "fXTVONMj0fT9"
      ]
    },
    "kernelspec": {
      "name": "python3",
      "display_name": "Python 3"
    },
    "accelerator": "TPU"
  },
  "cells": [
    {
      "cell_type": "code",
      "metadata": {
        "id": "kQb8fmKtks0p",
        "colab_type": "code",
        "colab": {}
      },
      "source": [
        "# #colabを使う方はこちらを使用ください。\n",
        "# !pip install torch==0.4.1\n",
        "# !pip install torchvision==0.2.1\n",
        "# !pip install numpy==1.14.6\n",
        "# !pip install matplotlib==2.1.2\n",
        "# !pip install pillow==5.0.0\n",
        "# !pip install opencv-python==3.4.3.18"
      ],
      "execution_count": 0,
      "outputs": []
    },
    {
      "cell_type": "code",
      "metadata": {
        "id": "_6qBFEEYYwy8",
        "colab_type": "code",
        "colab": {}
      },
      "source": [
        "import torch\n",
        "import torchvision\n",
        "import torch.nn as nn\n",
        "import torch.optim as optim\n",
        "import numpy as np\n",
        "import torchvision.transforms as transforms\n",
        "%matplotlib inline\n",
        "from matplotlib import pyplot as plt"
      ],
      "execution_count": 0,
      "outputs": []
    },
    {
      "cell_type": "markdown",
      "metadata": {
        "id": "EOMVHMwlSrla",
        "colab_type": "text"
      },
      "source": [
        "# Tensor\n"
      ]
    },
    {
      "cell_type": "markdown",
      "metadata": {
        "id": "ZosZrzKm5_23",
        "colab_type": "text"
      },
      "source": [
        "## Tensorの変換"
      ]
    },
    {
      "cell_type": "code",
      "metadata": {
        "id": "ARsmhkZviKLX",
        "colab_type": "code",
        "outputId": "7cef1136-0297-426a-d6c7-5be599513db3",
        "colab": {
          "base_uri": "https://localhost:8080/",
          "height": 34
        }
      },
      "source": [
        "# 1次元Tensor（ベクトル）を作成\n",
        "# リストを渡す\n",
        "torch_array = torch.tensor([0, 1, 2, 3])\n",
        "torch_array"
      ],
      "execution_count": 3,
      "outputs": [
        {
          "output_type": "execute_result",
          "data": {
            "text/plain": [
              "tensor([0, 1, 2, 3])"
            ]
          },
          "metadata": {
            "tags": []
          },
          "execution_count": 3
        }
      ]
    },
    {
      "cell_type": "code",
      "metadata": {
        "id": "52SBDUCKSvvY",
        "colab_type": "code",
        "outputId": "b30af5f7-4900-4d42-c9d1-4fedc5b1fe2c",
        "colab": {
          "base_uri": "https://localhost:8080/",
          "height": 34
        }
      },
      "source": [
        "# numpy.ndarrayを作成\n",
        "np_array = np.array([0, 1, 2, 3])\n",
        "np_array"
      ],
      "execution_count": 5,
      "outputs": [
        {
          "output_type": "execute_result",
          "data": {
            "text/plain": [
              "array([0, 1, 2, 3])"
            ]
          },
          "metadata": {
            "tags": []
          },
          "execution_count": 5
        }
      ]
    },
    {
      "cell_type": "code",
      "metadata": {
        "id": "Hd8RJUJ4jK7W",
        "colab_type": "code",
        "outputId": "4f5ea524-08c1-4027-def6-326b8284530f",
        "colab": {
          "base_uri": "https://localhost:8080/",
          "height": 51
        }
      },
      "source": [
        "print(type(torch_array))\n",
        "print(type(np_array))"
      ],
      "execution_count": 6,
      "outputs": [
        {
          "output_type": "stream",
          "text": [
            "<class 'torch.Tensor'>\n",
            "<class 'numpy.ndarray'>\n"
          ],
          "name": "stdout"
        }
      ]
    },
    {
      "cell_type": "code",
      "metadata": {
        "id": "V3kXR-9bS3SX",
        "colab_type": "code",
        "outputId": "61d84bf0-6d1c-46e7-db2a-502df035164c",
        "colab": {
          "base_uri": "https://localhost:8080/",
          "height": 34
        }
      },
      "source": [
        "# numpyからの変換\n",
        "torch_array = torch.from_numpy(np_array)\n",
        "torch_array"
      ],
      "execution_count": 7,
      "outputs": [
        {
          "output_type": "execute_result",
          "data": {
            "text/plain": [
              "tensor([0, 1, 2, 3])"
            ]
          },
          "metadata": {
            "tags": []
          },
          "execution_count": 7
        }
      ]
    },
    {
      "cell_type": "code",
      "metadata": {
        "id": "Z_MJE6LBTkcL",
        "colab_type": "code",
        "outputId": "d0cdaafc-1efa-41f7-94c1-8be62abd7b0b",
        "colab": {
          "base_uri": "https://localhost:8080/",
          "height": 34
        }
      },
      "source": [
        "# torchからnumpy\n",
        "torch2np_array = torch_array.numpy()\n",
        "torch2np_array"
      ],
      "execution_count": 8,
      "outputs": [
        {
          "output_type": "execute_result",
          "data": {
            "text/plain": [
              "array([0, 1, 2, 3])"
            ]
          },
          "metadata": {
            "tags": []
          },
          "execution_count": 8
        }
      ]
    },
    {
      "cell_type": "code",
      "metadata": {
        "id": "jVSB3bwERE-J",
        "colab_type": "code",
        "outputId": "a981e531-a050-4850-c017-e1a05e526e8f",
        "colab": {
          "base_uri": "https://localhost:8080/",
          "height": 51
        }
      },
      "source": [
        "# 2次元Tensorを作成\n",
        "np_array = np.array([[0, 1, 2], [3, 4, 5]])\n",
        "torch_array = torch.from_numpy(np_array)\n",
        "torch2np_array = torch_array.numpy()\n",
        "torch_array"
      ],
      "execution_count": 9,
      "outputs": [
        {
          "output_type": "execute_result",
          "data": {
            "text/plain": [
              "tensor([[0, 1, 2],\n",
              "        [3, 4, 5]])"
            ]
          },
          "metadata": {
            "tags": []
          },
          "execution_count": 9
        }
      ]
    },
    {
      "cell_type": "code",
      "metadata": {
        "id": "GKBVvqHjUOK2",
        "colab_type": "code",
        "outputId": "4968c70d-d7ac-4d60-96d4-8aaba5b0b774",
        "colab": {
          "base_uri": "https://localhost:8080/",
          "height": 102
        }
      },
      "source": [
        "# 3次元Tensorの作成\n",
        "np_array = np.array([[[1], [2]], [[3], [4]]])\n",
        "torch_array = torch.from_numpy(np_array)\n",
        "torch2np_array = torch_array.numpy()\n",
        "torch_array"
      ],
      "execution_count": 10,
      "outputs": [
        {
          "output_type": "execute_result",
          "data": {
            "text/plain": [
              "tensor([[[1],\n",
              "         [2]],\n",
              "\n",
              "        [[3],\n",
              "         [4]]])"
            ]
          },
          "metadata": {
            "tags": []
          },
          "execution_count": 10
        }
      ]
    },
    {
      "cell_type": "markdown",
      "metadata": {
        "id": "w7UN-kgy6G3k",
        "colab_type": "text"
      },
      "source": [
        "## 色々なTensorの作成"
      ]
    },
    {
      "cell_type": "code",
      "metadata": {
        "id": "6rdeVZgu9dC6",
        "colab_type": "code",
        "outputId": "4b535101-6d20-4ed0-ca42-5d62cddd6224",
        "colab": {
          "base_uri": "https://localhost:8080/",
          "height": 34
        }
      },
      "source": [
        "np_array = np.arange(10)\n",
        "np_array"
      ],
      "execution_count": 11,
      "outputs": [
        {
          "output_type": "execute_result",
          "data": {
            "text/plain": [
              "array([0, 1, 2, 3, 4, 5, 6, 7, 8, 9])"
            ]
          },
          "metadata": {
            "tags": []
          },
          "execution_count": 11
        }
      ]
    },
    {
      "cell_type": "code",
      "metadata": {
        "id": "e2tASn4l6JJE",
        "colab_type": "code",
        "outputId": "e8075b19-66ea-4ef7-9d0b-360fa46f2145",
        "colab": {
          "base_uri": "https://localhost:8080/",
          "height": 34
        }
      },
      "source": [
        "# torch.arangeの例\n",
        "torch_array = torch.arange(10)\n",
        "torch_array"
      ],
      "execution_count": 0,
      "outputs": [
        {
          "output_type": "execute_result",
          "data": {
            "text/plain": [
              "tensor([0, 1, 2, 3, 4, 5, 6, 7, 8, 9])"
            ]
          },
          "metadata": {
            "tags": []
          },
          "execution_count": 16
        }
      ]
    },
    {
      "cell_type": "code",
      "metadata": {
        "id": "yebRcZEZ6K_J",
        "colab_type": "code",
        "outputId": "b50a9ba1-10c0-431c-f6d8-1e27bb9388c1",
        "colab": {
          "base_uri": "https://localhost:8080/",
          "height": 34
        }
      },
      "source": [
        "# np.linspaceの例\n",
        "np_array = np.linspace(0, 1, 6)\n",
        "np_array"
      ],
      "execution_count": 12,
      "outputs": [
        {
          "output_type": "execute_result",
          "data": {
            "text/plain": [
              "array([0. , 0.2, 0.4, 0.6, 0.8, 1. ])"
            ]
          },
          "metadata": {
            "tags": []
          },
          "execution_count": 12
        }
      ]
    },
    {
      "cell_type": "code",
      "metadata": {
        "id": "BjWjBqGP6MfT",
        "colab_type": "code",
        "outputId": "25c10000-a07a-4f6d-8630-af616c71f7b0",
        "colab": {
          "base_uri": "https://localhost:8080/",
          "height": 34
        }
      },
      "source": [
        "torch_array = torch.linspace(0, 1, 6)\n",
        "torch_array"
      ],
      "execution_count": 13,
      "outputs": [
        {
          "output_type": "execute_result",
          "data": {
            "text/plain": [
              "tensor([0.0000, 0.2000, 0.4000, 0.6000, 0.8000, 1.0000])"
            ]
          },
          "metadata": {
            "tags": []
          },
          "execution_count": 13
        }
      ]
    },
    {
      "cell_type": "code",
      "metadata": {
        "id": "yI_7IwZZ6NfD",
        "colab_type": "code",
        "outputId": "e4ffc13f-d6df-4f9d-807f-c652d4a3404d",
        "colab": {
          "base_uri": "https://localhost:8080/",
          "height": 68
        }
      },
      "source": [
        "np_array = np.ones((3, 3))\n",
        "np_array"
      ],
      "execution_count": 15,
      "outputs": [
        {
          "output_type": "execute_result",
          "data": {
            "text/plain": [
              "array([[1., 1., 1.],\n",
              "       [1., 1., 1.],\n",
              "       [1., 1., 1.]])"
            ]
          },
          "metadata": {
            "tags": []
          },
          "execution_count": 15
        }
      ]
    },
    {
      "cell_type": "code",
      "metadata": {
        "id": "T_Tctl7U6Of-",
        "colab_type": "code",
        "outputId": "35628591-72e5-47f6-bb4a-3016898de09e",
        "colab": {
          "base_uri": "https://localhost:8080/",
          "height": 68
        }
      },
      "source": [
        "torch_array = torch.ones((3, 3))\n",
        "torch_array"
      ],
      "execution_count": 16,
      "outputs": [
        {
          "output_type": "execute_result",
          "data": {
            "text/plain": [
              "tensor([[1., 1., 1.],\n",
              "        [1., 1., 1.],\n",
              "        [1., 1., 1.]])"
            ]
          },
          "metadata": {
            "tags": []
          },
          "execution_count": 16
        }
      ]
    },
    {
      "cell_type": "code",
      "metadata": {
        "id": "6lkrYwVr6PiZ",
        "colab_type": "code",
        "outputId": "dd870033-085e-4235-a7bb-561bd5061b13",
        "colab": {
          "base_uri": "https://localhost:8080/",
          "height": 51
        }
      },
      "source": [
        "np_array = np.zeros((2, 2))\n",
        "np_array"
      ],
      "execution_count": 17,
      "outputs": [
        {
          "output_type": "execute_result",
          "data": {
            "text/plain": [
              "array([[0., 0.],\n",
              "       [0., 0.]])"
            ]
          },
          "metadata": {
            "tags": []
          },
          "execution_count": 17
        }
      ]
    },
    {
      "cell_type": "code",
      "metadata": {
        "id": "AYkxZFDg6Qyd",
        "colab_type": "code",
        "outputId": "47034934-c5b3-41e6-e7e7-e40607ab94c4",
        "colab": {
          "base_uri": "https://localhost:8080/",
          "height": 51
        }
      },
      "source": [
        "torch_array = torch.zeros((2, 2))\n",
        "torch_array"
      ],
      "execution_count": 18,
      "outputs": [
        {
          "output_type": "execute_result",
          "data": {
            "text/plain": [
              "tensor([[0., 0.],\n",
              "        [0., 0.]])"
            ]
          },
          "metadata": {
            "tags": []
          },
          "execution_count": 18
        }
      ]
    },
    {
      "cell_type": "code",
      "metadata": {
        "id": "NuXbSDiu6R-M",
        "colab_type": "code",
        "outputId": "2e91fd89-c4f2-43cd-f347-d28ddbca11b9",
        "colab": {
          "base_uri": "https://localhost:8080/",
          "height": 34
        }
      },
      "source": [
        "np_array = np.random.randn(4)\n",
        "np_array"
      ],
      "execution_count": 19,
      "outputs": [
        {
          "output_type": "execute_result",
          "data": {
            "text/plain": [
              "array([ 1.93737916,  1.70174875,  0.34658009, -0.12133353])"
            ]
          },
          "metadata": {
            "tags": []
          },
          "execution_count": 19
        }
      ]
    },
    {
      "cell_type": "code",
      "metadata": {
        "id": "bOleOdQt6TEP",
        "colab_type": "code",
        "outputId": "8b9475a4-4905-4e4f-8f32-4b064d31da69",
        "colab": {
          "base_uri": "https://localhost:8080/",
          "height": 34
        }
      },
      "source": [
        "torch_array = torch.randn(4)\n",
        "torch_array"
      ],
      "execution_count": 20,
      "outputs": [
        {
          "output_type": "execute_result",
          "data": {
            "text/plain": [
              "tensor([-0.0234, -0.8817,  0.3087, -1.4556])"
            ]
          },
          "metadata": {
            "tags": []
          },
          "execution_count": 20
        }
      ]
    },
    {
      "cell_type": "markdown",
      "metadata": {
        "id": "LDChx4F_I20u",
        "colab_type": "text"
      },
      "source": [
        "## Tensorの操作"
      ]
    },
    {
      "cell_type": "code",
      "metadata": {
        "id": "3nZCwBxaIX3J",
        "colab_type": "code",
        "outputId": "3e720827-9226-4548-ec07-cf6263d048d3",
        "colab": {
          "base_uri": "https://localhost:8080/",
          "height": 119
        }
      },
      "source": [
        "#形状変換\n",
        "torch_array = torch.arange(10)\n",
        "print(torch_array)\n",
        "torch_array = torch_array.view(5, 2)\n",
        "print(torch_array)"
      ],
      "execution_count": 21,
      "outputs": [
        {
          "output_type": "stream",
          "text": [
            "tensor([0, 1, 2, 3, 4, 5, 6, 7, 8, 9])\n",
            "tensor([[0, 1],\n",
            "        [2, 3],\n",
            "        [4, 5],\n",
            "        [6, 7],\n",
            "        [8, 9]])\n"
          ],
          "name": "stdout"
        }
      ]
    },
    {
      "cell_type": "code",
      "metadata": {
        "id": "zpJ-rtT9JM1v",
        "colab_type": "code",
        "outputId": "ac6e0f0b-15b6-4c89-ee17-a8f0a41b006e",
        "colab": {
          "base_uri": "https://localhost:8080/",
          "height": 138
        }
      },
      "source": [
        "#軸入れ替え\n",
        "torch_array = torch.arange(10)\n",
        "torch_array = torch_array.view(5, 2)\n",
        "print(torch_array)\n",
        "torch_array = torch_array.transpose(0, 1)\n",
        "print(torch_array)"
      ],
      "execution_count": 0,
      "outputs": [
        {
          "output_type": "stream",
          "text": [
            "tensor([[0, 1],\n",
            "        [2, 3],\n",
            "        [4, 5],\n",
            "        [6, 7],\n",
            "        [8, 9]])\n",
            "tensor([[0, 2, 4, 6, 8],\n",
            "        [1, 3, 5, 7, 9]])\n"
          ],
          "name": "stdout"
        }
      ]
    },
    {
      "cell_type": "code",
      "metadata": {
        "id": "rsgJRyA1I_kg",
        "colab_type": "code",
        "outputId": "4084cef2-7651-4d21-8685-03913df80019",
        "colab": {
          "base_uri": "https://localhost:8080/",
          "height": 34
        }
      },
      "source": [
        "#インデックス指定\n",
        "torch_array = torch.arange(10)\n",
        "torch_array[2]"
      ],
      "execution_count": 0,
      "outputs": [
        {
          "output_type": "execute_result",
          "data": {
            "text/plain": [
              "tensor(2)"
            ]
          },
          "metadata": {
            "tags": []
          },
          "execution_count": 27
        }
      ]
    },
    {
      "cell_type": "code",
      "metadata": {
        "id": "9jzUMzkXH1yj",
        "colab_type": "code",
        "outputId": "76e556f6-b0c5-4465-b2b6-733f41865590",
        "colab": {
          "base_uri": "https://localhost:8080/",
          "height": 34
        }
      },
      "source": [
        "#スライス\n",
        "torch_array = torch.arange(10)\n",
        "torch_array[2:5]"
      ],
      "execution_count": 0,
      "outputs": [
        {
          "output_type": "execute_result",
          "data": {
            "text/plain": [
              "tensor([2, 3, 4])"
            ]
          },
          "metadata": {
            "tags": []
          },
          "execution_count": 28
        }
      ]
    },
    {
      "cell_type": "code",
      "metadata": {
        "id": "0UY223THOjQO",
        "colab_type": "code",
        "outputId": "e44a78fa-256a-4f06-a656-c6d3aec17d0a",
        "colab": {
          "base_uri": "https://localhost:8080/",
          "height": 52
        }
      },
      "source": [
        "#要素単位の加算\n",
        "x1 = torch.arange(4)\n",
        "print(torch.add(x1, 4))\n",
        "\n",
        "#要素単位の乗算\n",
        "x1 = torch.arange(4)\n",
        "print(torch.mul(x1, 4))"
      ],
      "execution_count": 0,
      "outputs": [
        {
          "output_type": "stream",
          "text": [
            "tensor([4, 5, 6, 7])\n",
            "tensor([ 0,  4,  8, 12])\n"
          ],
          "name": "stdout"
        }
      ]
    },
    {
      "cell_type": "code",
      "metadata": {
        "id": "kZcrMFJPMkuh",
        "colab_type": "code",
        "outputId": "ff8f3b05-5cb4-4a01-dd97-5e86e99ef2cf",
        "colab": {
          "base_uri": "https://localhost:8080/",
          "height": 156
        }
      },
      "source": [
        "#ベクトル同士の内積\n",
        "x1 = torch.arange(4)\n",
        "x2 = torch.arange(4)\n",
        "print(torch.matmul(x1, x2))\n",
        "print(torch.dot(x1, x2))\n",
        "\n",
        "#行列とベクトルの積\n",
        "X1 = torch.arange(8).view(2, 4)\n",
        "x2 = torch.arange(4)\n",
        "print(torch.matmul(X1, x2))\n",
        "print(torch.mv(X1, x2))\n",
        "\n",
        "#行列同士の積\n",
        "X1 = torch.arange(8).view(2, 4)\n",
        "X2 = torch.arange(8).view(2, 4).t()\n",
        "print(torch.matmul(X1, X2))\n",
        "print(torch.mm(X1, X2))"
      ],
      "execution_count": 0,
      "outputs": [
        {
          "output_type": "stream",
          "text": [
            "tensor(14)\n",
            "tensor(14)\n",
            "tensor([14, 38])\n",
            "tensor([14, 38])\n",
            "tensor([[ 14,  38],\n",
            "        [ 38, 126]])\n",
            "tensor([[ 14,  38],\n",
            "        [ 38, 126]])\n"
          ],
          "name": "stdout"
        }
      ]
    },
    {
      "cell_type": "code",
      "metadata": {
        "id": "rzELngcwPIqg",
        "colab_type": "code",
        "outputId": "8f316765-5ba6-481c-b465-66283016716c",
        "colab": {
          "base_uri": "https://localhost:8080/",
          "height": 329
        }
      },
      "source": [
        "#バッチサイズ3の(2,4)行列と(4,2)行列の行列積 \n",
        "X1 = torch.arange(24).view(-1, 2, 4)\n",
        "X2 = torch.arange(24).view(-1, 4, 2)\n",
        "print(X1.size())\n",
        "print(X2.size())\n",
        "print(torch.matmul(X1, X2))\n",
        "print(torch.bmm(X1, X2))"
      ],
      "execution_count": 0,
      "outputs": [
        {
          "output_type": "stream",
          "text": [
            "torch.Size([3, 2, 4])\n",
            "torch.Size([3, 4, 2])\n",
            "tensor([[[  28,   34],\n",
            "         [  76,   98]],\n",
            "\n",
            "        [[ 428,  466],\n",
            "         [ 604,  658]],\n",
            "\n",
            "        [[1340, 1410],\n",
            "         [1644, 1730]]])\n",
            "tensor([[[  28,   34],\n",
            "         [  76,   98]],\n",
            "\n",
            "        [[ 428,  466],\n",
            "         [ 604,  658]],\n",
            "\n",
            "        [[1340, 1410],\n",
            "         [1644, 1730]]])\n"
          ],
          "name": "stdout"
        }
      ]
    },
    {
      "cell_type": "markdown",
      "metadata": {
        "id": "bK_HVyWj0T2E",
        "colab_type": "text"
      },
      "source": [
        "## データ型"
      ]
    },
    {
      "cell_type": "code",
      "metadata": {
        "id": "4kX6PFPb6T2X",
        "colab_type": "code",
        "outputId": "dacf063f-6244-4ff5-b21a-e6d94b1ed0bb",
        "colab": {
          "base_uri": "https://localhost:8080/",
          "height": 34
        }
      },
      "source": [
        "np_array = np.array([1, 2, 3])\n",
        "np_array.dtype"
      ],
      "execution_count": 0,
      "outputs": [
        {
          "output_type": "execute_result",
          "data": {
            "text/plain": [
              "dtype('int64')"
            ]
          },
          "metadata": {
            "tags": []
          },
          "execution_count": 32
        }
      ]
    },
    {
      "cell_type": "code",
      "metadata": {
        "id": "sLFUjdUO0YMC",
        "colab_type": "code",
        "outputId": "7f068a5d-ee99-497d-ef8a-bb0ddf40aeff",
        "colab": {
          "base_uri": "https://localhost:8080/",
          "height": 34
        }
      },
      "source": [
        "np_array = np.array([1., 2., 3.])\n",
        "np_array.dtype"
      ],
      "execution_count": 0,
      "outputs": [
        {
          "output_type": "execute_result",
          "data": {
            "text/plain": [
              "dtype('float64')"
            ]
          },
          "metadata": {
            "tags": []
          },
          "execution_count": 33
        }
      ]
    },
    {
      "cell_type": "code",
      "metadata": {
        "id": "U7DG1GOF0ZCC",
        "colab_type": "code",
        "outputId": "2267f16f-af60-49eb-aa95-866f3f779117",
        "colab": {
          "base_uri": "https://localhost:8080/",
          "height": 34
        }
      },
      "source": [
        "np_array = np.array([0, 1, 2, 3])\n",
        "torch_array = torch.from_numpy(np_array)\n",
        "torch_array.type()"
      ],
      "execution_count": 0,
      "outputs": [
        {
          "output_type": "execute_result",
          "data": {
            "text/plain": [
              "'torch.LongTensor'"
            ]
          },
          "metadata": {
            "tags": []
          },
          "execution_count": 34
        }
      ]
    },
    {
      "cell_type": "code",
      "metadata": {
        "id": "u5WmB53R0Z0m",
        "colab_type": "code",
        "outputId": "7deb558b-af34-47c2-ff49-8133db83b4d4",
        "colab": {
          "base_uri": "https://localhost:8080/",
          "height": 34
        }
      },
      "source": [
        "np_array = np.array([1., 2., 3.])\n",
        "torch_array = torch.from_numpy(np_array)\n",
        "torch_array.type()"
      ],
      "execution_count": 0,
      "outputs": [
        {
          "output_type": "execute_result",
          "data": {
            "text/plain": [
              "'torch.DoubleTensor'"
            ]
          },
          "metadata": {
            "tags": []
          },
          "execution_count": 35
        }
      ]
    },
    {
      "cell_type": "code",
      "metadata": {
        "id": "cIwkAaur0akr",
        "colab_type": "code",
        "outputId": "274b1403-c104-43bf-b27b-7738459ca314",
        "colab": {
          "base_uri": "https://localhost:8080/",
          "height": 34
        }
      },
      "source": [
        "np_array = np.array([1, 2, 3], dtype=float)\n",
        "np_array.dtype"
      ],
      "execution_count": 0,
      "outputs": [
        {
          "output_type": "execute_result",
          "data": {
            "text/plain": [
              "dtype('float64')"
            ]
          },
          "metadata": {
            "tags": []
          },
          "execution_count": 36
        }
      ]
    },
    {
      "cell_type": "code",
      "metadata": {
        "id": "hoOJ4BwZ0bVM",
        "colab_type": "code",
        "outputId": "f465e566-9ada-44a2-b2c4-bfc2f3ebb206",
        "colab": {
          "base_uri": "https://localhost:8080/",
          "height": 52
        }
      },
      "source": [
        "np_array = np.array([1, 2, 3], dtype=float)\n",
        "torch_array = torch.from_numpy(np_array)\n",
        "print(torch_array.dtype)\n",
        "print(torch_array.type())"
      ],
      "execution_count": 0,
      "outputs": [
        {
          "output_type": "stream",
          "text": [
            "torch.float64\n",
            "torch.DoubleTensor\n"
          ],
          "name": "stdout"
        }
      ]
    },
    {
      "cell_type": "code",
      "metadata": {
        "id": "3yc1FSrw3I-0",
        "colab_type": "code",
        "outputId": "ff3430cc-48e6-4cd6-a652-a457536bab42",
        "colab": {
          "base_uri": "https://localhost:8080/",
          "height": 52
        }
      },
      "source": [
        "np_array = np.array([1, 2, 3], dtype='int64')\n",
        "torch_array = torch.from_numpy(np_array)\n",
        "print(torch_array.dtype)\n",
        "print(torch_array.type())"
      ],
      "execution_count": 0,
      "outputs": [
        {
          "output_type": "stream",
          "text": [
            "torch.int64\n",
            "torch.LongTensor\n"
          ],
          "name": "stdout"
        }
      ]
    },
    {
      "cell_type": "code",
      "metadata": {
        "id": "Cym_IKY_BXBA",
        "colab_type": "code",
        "outputId": "43156b90-2a7e-409c-f295-65b636cfa194",
        "colab": {
          "base_uri": "https://localhost:8080/",
          "height": 34
        }
      },
      "source": [
        "#dtypeは型そのものを返す\n",
        "type(torch_array.dtype)"
      ],
      "execution_count": 0,
      "outputs": [
        {
          "output_type": "execute_result",
          "data": {
            "text/plain": [
              "torch.dtype"
            ]
          },
          "metadata": {
            "tags": []
          },
          "execution_count": 39
        }
      ]
    },
    {
      "cell_type": "code",
      "metadata": {
        "id": "K1qW1DpoBdUi",
        "colab_type": "code",
        "outputId": "8f0a41bc-f09e-4067-fac5-c8cc39a8a762",
        "colab": {
          "base_uri": "https://localhost:8080/",
          "height": 34
        }
      },
      "source": [
        "#type()は文字列が返ってくる\n",
        "type(torch_array.type())"
      ],
      "execution_count": 0,
      "outputs": [
        {
          "output_type": "execute_result",
          "data": {
            "text/plain": [
              "str"
            ]
          },
          "metadata": {
            "tags": []
          },
          "execution_count": 40
        }
      ]
    },
    {
      "cell_type": "markdown",
      "metadata": {
        "id": "fXTVONMj0fT9",
        "colab_type": "text"
      },
      "source": [
        "## Tensor形状をチェックする"
      ]
    },
    {
      "cell_type": "code",
      "metadata": {
        "id": "iRpLlmzk0cS5",
        "colab_type": "code",
        "outputId": "dc49b72f-ea2f-40f6-9946-f760f4c98db3",
        "colab": {
          "base_uri": "https://localhost:8080/",
          "height": 69
        }
      },
      "source": [
        "xf_numpy = np.ndarray([2, 3], dtype='float32')\n",
        "print(xf_numpy)\n",
        "print(xf_numpy.shape)"
      ],
      "execution_count": 0,
      "outputs": [
        {
          "output_type": "stream",
          "text": [
            "[[0.    1.875 0.   ]\n",
            " [2.    0.    2.125]]\n",
            "(2, 3)\n"
          ],
          "name": "stdout"
        }
      ]
    },
    {
      "cell_type": "code",
      "metadata": {
        "id": "A0ahCcra0gY1",
        "colab_type": "code",
        "outputId": "5cdd1390-f868-43a4-edd6-d017ac91e5e2",
        "colab": {
          "base_uri": "https://localhost:8080/",
          "height": 69
        }
      },
      "source": [
        "import torch\n",
        "xf_torch = torch.FloatTensor(2, 3)\n",
        "print(xf_torch)\n",
        "print(xf_torch.size())"
      ],
      "execution_count": 0,
      "outputs": [
        {
          "output_type": "stream",
          "text": [
            "tensor([[0.0000, 0.0000, 0.0000],\n",
            "        [0.0000,    nan, 0.0000]])\n",
            "torch.Size([2, 3])\n"
          ],
          "name": "stdout"
        }
      ]
    },
    {
      "cell_type": "code",
      "metadata": {
        "id": "pqVffeK20hNJ",
        "colab_type": "code",
        "colab": {}
      },
      "source": [
        ""
      ],
      "execution_count": 0,
      "outputs": []
    }
  ]
}