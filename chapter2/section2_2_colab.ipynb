{
  "nbformat": 4,
  "nbformat_minor": 0,
  "metadata": {
    "colab": {
      "name": "section2_2.ipynb",
      "provenance": [],
      "collapsed_sections": [
        "ZosZrzKm5_23",
        "w7UN-kgy6G3k",
        "LDChx4F_I20u",
        "bK_HVyWj0T2E",
        "fXTVONMj0fT9"
      ],
      "toc_visible": true
    },
    "kernelspec": {
      "name": "python3",
      "display_name": "Python 3"
    },
    "accelerator": "TPU"
  },
  "cells": [
    {
      "cell_type": "code",
      "metadata": {
        "id": "kQb8fmKtks0p",
        "colab_type": "code",
        "colab": {}
      },
      "source": [
        "# #colabを使う方はこちらを使用ください。\n",
        "# !pip install torch==0.4.1\n",
        "# !pip install torchvision==0.2.1\n",
        "# !pip install numpy==1.14.6\n",
        "# !pip install matplotlib==2.1.2\n",
        "# !pip install pillow==5.0.0\n",
        "# !pip install opencv-python==3.4.3.18"
      ],
      "execution_count": 0,
      "outputs": []
    },
    {
      "cell_type": "code",
      "metadata": {
        "id": "_6qBFEEYYwy8",
        "colab_type": "code",
        "colab": {}
      },
      "source": [
        "import torch\n",
        "import torchvision\n",
        "import torch.nn as nn\n",
        "import torch.optim as optim\n",
        "import numpy as np\n",
        "import torchvision.transforms as transforms\n",
        "%matplotlib inline\n",
        "from matplotlib import pyplot as plt"
      ],
      "execution_count": 0,
      "outputs": []
    },
    {
      "cell_type": "markdown",
      "metadata": {
        "id": "EOMVHMwlSrla",
        "colab_type": "text"
      },
      "source": [
        "# Tensor\n"
      ]
    },
    {
      "cell_type": "markdown",
      "metadata": {
        "id": "ZosZrzKm5_23",
        "colab_type": "text"
      },
      "source": [
        "## Tensorの変換"
      ]
    },
    {
      "cell_type": "code",
      "metadata": {
        "id": "ARsmhkZviKLX",
        "colab_type": "code",
        "outputId": "ed3a10b2-a8aa-4afb-a20b-5bf585be0491",
        "colab": {
          "base_uri": "https://localhost:8080/",
          "height": 34
        }
      },
      "source": [
        "# 1次元Tensor（ベクトル）を作成\n",
        "# リストを渡す\n",
        "torch_array = torch.tensor([0, 1, 2, 3])\n",
        "torch_array"
      ],
      "execution_count": 4,
      "outputs": [
        {
          "output_type": "execute_result",
          "data": {
            "text/plain": [
              "tensor([0, 1, 2, 3])"
            ]
          },
          "metadata": {
            "tags": []
          },
          "execution_count": 4
        }
      ]
    },
    {
      "cell_type": "code",
      "metadata": {
        "id": "52SBDUCKSvvY",
        "colab_type": "code",
        "outputId": "147c48cd-6b9b-48a1-a312-d8d06409895f",
        "colab": {
          "base_uri": "https://localhost:8080/",
          "height": 34
        }
      },
      "source": [
        "# numpy.ndarrayを作成\n",
        "np_array = np.array([0, 1, 2, 3])\n",
        "np_array"
      ],
      "execution_count": 5,
      "outputs": [
        {
          "output_type": "execute_result",
          "data": {
            "text/plain": [
              "array([0, 1, 2, 3])"
            ]
          },
          "metadata": {
            "tags": []
          },
          "execution_count": 5
        }
      ]
    },
    {
      "cell_type": "code",
      "metadata": {
        "id": "Hd8RJUJ4jK7W",
        "colab_type": "code",
        "outputId": "0817852f-7361-4540-da3b-7105e0a8f5c4",
        "colab": {
          "base_uri": "https://localhost:8080/",
          "height": 51
        }
      },
      "source": [
        "print(type(torch_array))\n",
        "print(type(np_array))"
      ],
      "execution_count": 6,
      "outputs": [
        {
          "output_type": "stream",
          "text": [
            "<class 'torch.Tensor'>\n",
            "<class 'numpy.ndarray'>\n"
          ],
          "name": "stdout"
        }
      ]
    },
    {
      "cell_type": "code",
      "metadata": {
        "id": "V3kXR-9bS3SX",
        "colab_type": "code",
        "outputId": "da6d2757-a104-4648-8fd5-3e61f2df0642",
        "colab": {
          "base_uri": "https://localhost:8080/",
          "height": 34
        }
      },
      "source": [
        "# numpyからの変換\n",
        "torch_array = torch.from_numpy(np_array)\n",
        "torch_array"
      ],
      "execution_count": 7,
      "outputs": [
        {
          "output_type": "execute_result",
          "data": {
            "text/plain": [
              "tensor([0, 1, 2, 3])"
            ]
          },
          "metadata": {
            "tags": []
          },
          "execution_count": 7
        }
      ]
    },
    {
      "cell_type": "code",
      "metadata": {
        "id": "Z_MJE6LBTkcL",
        "colab_type": "code",
        "outputId": "8e35b9f6-7597-43a6-b58a-24e9115fc703",
        "colab": {
          "base_uri": "https://localhost:8080/",
          "height": 34
        }
      },
      "source": [
        "# torchからnumpy\n",
        "torch2np_array = torch_array.numpy()\n",
        "torch2np_array"
      ],
      "execution_count": 8,
      "outputs": [
        {
          "output_type": "execute_result",
          "data": {
            "text/plain": [
              "array([0, 1, 2, 3])"
            ]
          },
          "metadata": {
            "tags": []
          },
          "execution_count": 8
        }
      ]
    },
    {
      "cell_type": "code",
      "metadata": {
        "id": "jVSB3bwERE-J",
        "colab_type": "code",
        "outputId": "73cb26bf-17aa-4d7e-94d7-0f985a879fef",
        "colab": {
          "base_uri": "https://localhost:8080/",
          "height": 51
        }
      },
      "source": [
        "# 2次元Tensorを作成\n",
        "np_array = np.array([[0, 1, 2], [3, 4, 5]])\n",
        "torch_array = torch.from_numpy(np_array)\n",
        "torch2np_array = torch_array.numpy()\n",
        "torch_array"
      ],
      "execution_count": 9,
      "outputs": [
        {
          "output_type": "execute_result",
          "data": {
            "text/plain": [
              "tensor([[0, 1, 2],\n",
              "        [3, 4, 5]])"
            ]
          },
          "metadata": {
            "tags": []
          },
          "execution_count": 9
        }
      ]
    },
    {
      "cell_type": "code",
      "metadata": {
        "id": "GKBVvqHjUOK2",
        "colab_type": "code",
        "outputId": "75bd14b7-5288-4994-dc48-6398c875360b",
        "colab": {
          "base_uri": "https://localhost:8080/",
          "height": 102
        }
      },
      "source": [
        "# 3次元Tensorの作成\n",
        "np_array = np.array([[[1], [2]], [[3], [4]]])\n",
        "torch_array = torch.from_numpy(np_array)\n",
        "torch2np_array = torch_array.numpy()\n",
        "torch_array"
      ],
      "execution_count": 10,
      "outputs": [
        {
          "output_type": "execute_result",
          "data": {
            "text/plain": [
              "tensor([[[1],\n",
              "         [2]],\n",
              "\n",
              "        [[3],\n",
              "         [4]]])"
            ]
          },
          "metadata": {
            "tags": []
          },
          "execution_count": 10
        }
      ]
    },
    {
      "cell_type": "markdown",
      "metadata": {
        "id": "w7UN-kgy6G3k",
        "colab_type": "text"
      },
      "source": [
        "## 色々なTensorの作成"
      ]
    },
    {
      "cell_type": "code",
      "metadata": {
        "id": "6rdeVZgu9dC6",
        "colab_type": "code",
        "outputId": "d8a6b485-8707-426e-e236-69678ffcb249",
        "colab": {
          "base_uri": "https://localhost:8080/",
          "height": 34
        }
      },
      "source": [
        "np_array = np.arange(10)\n",
        "np_array"
      ],
      "execution_count": 11,
      "outputs": [
        {
          "output_type": "execute_result",
          "data": {
            "text/plain": [
              "array([0, 1, 2, 3, 4, 5, 6, 7, 8, 9])"
            ]
          },
          "metadata": {
            "tags": []
          },
          "execution_count": 11
        }
      ]
    },
    {
      "cell_type": "code",
      "metadata": {
        "id": "e2tASn4l6JJE",
        "colab_type": "code",
        "outputId": "abf5d9e5-60aa-4e61-f908-13909997d359",
        "colab": {
          "base_uri": "https://localhost:8080/",
          "height": 34
        }
      },
      "source": [
        "# torch.arangeの例\n",
        "torch_array = torch.arange(10)\n",
        "torch_array"
      ],
      "execution_count": 12,
      "outputs": [
        {
          "output_type": "execute_result",
          "data": {
            "text/plain": [
              "tensor([0, 1, 2, 3, 4, 5, 6, 7, 8, 9])"
            ]
          },
          "metadata": {
            "tags": []
          },
          "execution_count": 12
        }
      ]
    },
    {
      "cell_type": "code",
      "metadata": {
        "id": "yebRcZEZ6K_J",
        "colab_type": "code",
        "outputId": "6e57f1eb-331d-4a0f-e261-9f56632f55d6",
        "colab": {
          "base_uri": "https://localhost:8080/",
          "height": 34
        }
      },
      "source": [
        "# np.linspaceの例\n",
        "np_array = np.linspace(0, 1, 6)\n",
        "np_array"
      ],
      "execution_count": 13,
      "outputs": [
        {
          "output_type": "execute_result",
          "data": {
            "text/plain": [
              "array([0. , 0.2, 0.4, 0.6, 0.8, 1. ])"
            ]
          },
          "metadata": {
            "tags": []
          },
          "execution_count": 13
        }
      ]
    },
    {
      "cell_type": "code",
      "metadata": {
        "id": "BjWjBqGP6MfT",
        "colab_type": "code",
        "outputId": "18f28e38-8f3b-489c-e893-180bcf524fea",
        "colab": {
          "base_uri": "https://localhost:8080/",
          "height": 34
        }
      },
      "source": [
        "torch_array = torch.linspace(0, 1, 6)\n",
        "torch_array"
      ],
      "execution_count": 14,
      "outputs": [
        {
          "output_type": "execute_result",
          "data": {
            "text/plain": [
              "tensor([0.0000, 0.2000, 0.4000, 0.6000, 0.8000, 1.0000])"
            ]
          },
          "metadata": {
            "tags": []
          },
          "execution_count": 14
        }
      ]
    },
    {
      "cell_type": "code",
      "metadata": {
        "id": "yI_7IwZZ6NfD",
        "colab_type": "code",
        "outputId": "326f7526-77ba-4b8c-d521-8b6a3e979907",
        "colab": {
          "base_uri": "https://localhost:8080/",
          "height": 68
        }
      },
      "source": [
        "np_array = np.ones((3, 3))\n",
        "np_array"
      ],
      "execution_count": 15,
      "outputs": [
        {
          "output_type": "execute_result",
          "data": {
            "text/plain": [
              "array([[1., 1., 1.],\n",
              "       [1., 1., 1.],\n",
              "       [1., 1., 1.]])"
            ]
          },
          "metadata": {
            "tags": []
          },
          "execution_count": 15
        }
      ]
    },
    {
      "cell_type": "code",
      "metadata": {
        "id": "T_Tctl7U6Of-",
        "colab_type": "code",
        "outputId": "7821d7c0-0466-41b9-b113-5ce060cc997b",
        "colab": {
          "base_uri": "https://localhost:8080/",
          "height": 68
        }
      },
      "source": [
        "torch_array = torch.ones((3, 3))\n",
        "torch_array"
      ],
      "execution_count": 16,
      "outputs": [
        {
          "output_type": "execute_result",
          "data": {
            "text/plain": [
              "tensor([[1., 1., 1.],\n",
              "        [1., 1., 1.],\n",
              "        [1., 1., 1.]])"
            ]
          },
          "metadata": {
            "tags": []
          },
          "execution_count": 16
        }
      ]
    },
    {
      "cell_type": "code",
      "metadata": {
        "id": "6lkrYwVr6PiZ",
        "colab_type": "code",
        "outputId": "5bb5fc90-103a-40a7-b65e-dac7754b4450",
        "colab": {
          "base_uri": "https://localhost:8080/",
          "height": 51
        }
      },
      "source": [
        "np_array = np.zeros((2, 2))\n",
        "np_array"
      ],
      "execution_count": 17,
      "outputs": [
        {
          "output_type": "execute_result",
          "data": {
            "text/plain": [
              "array([[0., 0.],\n",
              "       [0., 0.]])"
            ]
          },
          "metadata": {
            "tags": []
          },
          "execution_count": 17
        }
      ]
    },
    {
      "cell_type": "code",
      "metadata": {
        "id": "AYkxZFDg6Qyd",
        "colab_type": "code",
        "outputId": "09aeeb3a-2a65-4ade-823b-9117bf47b05f",
        "colab": {
          "base_uri": "https://localhost:8080/",
          "height": 51
        }
      },
      "source": [
        "torch_array = torch.zeros((2, 2))\n",
        "torch_array"
      ],
      "execution_count": 18,
      "outputs": [
        {
          "output_type": "execute_result",
          "data": {
            "text/plain": [
              "tensor([[0., 0.],\n",
              "        [0., 0.]])"
            ]
          },
          "metadata": {
            "tags": []
          },
          "execution_count": 18
        }
      ]
    },
    {
      "cell_type": "code",
      "metadata": {
        "id": "NuXbSDiu6R-M",
        "colab_type": "code",
        "outputId": "b55a035c-f07b-4b70-c769-684720a252f9",
        "colab": {
          "base_uri": "https://localhost:8080/",
          "height": 34
        }
      },
      "source": [
        "np_array = np.random.randn(4)\n",
        "np_array"
      ],
      "execution_count": 19,
      "outputs": [
        {
          "output_type": "execute_result",
          "data": {
            "text/plain": [
              "array([-1.747637  ,  0.44919072,  0.17924678,  0.57085962])"
            ]
          },
          "metadata": {
            "tags": []
          },
          "execution_count": 19
        }
      ]
    },
    {
      "cell_type": "code",
      "metadata": {
        "id": "bOleOdQt6TEP",
        "colab_type": "code",
        "outputId": "6c8cc482-ae3f-4384-e207-add16719dbb7",
        "colab": {
          "base_uri": "https://localhost:8080/",
          "height": 34
        }
      },
      "source": [
        "torch_array = torch.randn(4)\n",
        "torch_array"
      ],
      "execution_count": 20,
      "outputs": [
        {
          "output_type": "execute_result",
          "data": {
            "text/plain": [
              "tensor([-0.6193, -1.0179, -1.2403, -0.7016])"
            ]
          },
          "metadata": {
            "tags": []
          },
          "execution_count": 20
        }
      ]
    },
    {
      "cell_type": "markdown",
      "metadata": {
        "id": "LDChx4F_I20u",
        "colab_type": "text"
      },
      "source": [
        "## Tensorの操作"
      ]
    },
    {
      "cell_type": "code",
      "metadata": {
        "id": "3nZCwBxaIX3J",
        "colab_type": "code",
        "outputId": "13716db7-b2a9-4a9c-a14c-52cdb16d4354",
        "colab": {
          "base_uri": "https://localhost:8080/",
          "height": 119
        }
      },
      "source": [
        "#形状変換\n",
        "torch_array = torch.arange(10)\n",
        "print(torch_array)\n",
        "torch_array = torch_array.view(5, 2)\n",
        "print(torch_array)"
      ],
      "execution_count": 21,
      "outputs": [
        {
          "output_type": "stream",
          "text": [
            "tensor([0, 1, 2, 3, 4, 5, 6, 7, 8, 9])\n",
            "tensor([[0, 1],\n",
            "        [2, 3],\n",
            "        [4, 5],\n",
            "        [6, 7],\n",
            "        [8, 9]])\n"
          ],
          "name": "stdout"
        }
      ]
    },
    {
      "cell_type": "code",
      "metadata": {
        "id": "zpJ-rtT9JM1v",
        "colab_type": "code",
        "outputId": "bdb285e4-e359-499a-a24a-79094e4eb90b",
        "colab": {
          "base_uri": "https://localhost:8080/",
          "height": 136
        }
      },
      "source": [
        "#軸入れ替え\n",
        "torch_array = torch.arange(10)\n",
        "torch_array = torch_array.view(5, 2)\n",
        "print(torch_array)\n",
        "torch_array = torch_array.transpose(0, 1)\n",
        "print(torch_array)"
      ],
      "execution_count": 22,
      "outputs": [
        {
          "output_type": "stream",
          "text": [
            "tensor([[0, 1],\n",
            "        [2, 3],\n",
            "        [4, 5],\n",
            "        [6, 7],\n",
            "        [8, 9]])\n",
            "tensor([[0, 2, 4, 6, 8],\n",
            "        [1, 3, 5, 7, 9]])\n"
          ],
          "name": "stdout"
        }
      ]
    },
    {
      "cell_type": "code",
      "metadata": {
        "id": "rsgJRyA1I_kg",
        "colab_type": "code",
        "outputId": "8ad6c80f-4f59-4c12-f3f1-37b61240ed99",
        "colab": {
          "base_uri": "https://localhost:8080/",
          "height": 34
        }
      },
      "source": [
        "#インデックス指定\n",
        "torch_array = torch.arange(10)\n",
        "torch_array[2]"
      ],
      "execution_count": 23,
      "outputs": [
        {
          "output_type": "execute_result",
          "data": {
            "text/plain": [
              "tensor(2)"
            ]
          },
          "metadata": {
            "tags": []
          },
          "execution_count": 23
        }
      ]
    },
    {
      "cell_type": "code",
      "metadata": {
        "id": "9jzUMzkXH1yj",
        "colab_type": "code",
        "outputId": "6b9df137-c83d-4514-e0a3-2ab8265e7108",
        "colab": {
          "base_uri": "https://localhost:8080/",
          "height": 34
        }
      },
      "source": [
        "#スライス\n",
        "torch_array = torch.arange(10)\n",
        "torch_array[2:5]"
      ],
      "execution_count": 24,
      "outputs": [
        {
          "output_type": "execute_result",
          "data": {
            "text/plain": [
              "tensor([2, 3, 4])"
            ]
          },
          "metadata": {
            "tags": []
          },
          "execution_count": 24
        }
      ]
    },
    {
      "cell_type": "code",
      "metadata": {
        "id": "0UY223THOjQO",
        "colab_type": "code",
        "outputId": "25b3b85e-88ec-41ce-8dde-d486adb4c9aa",
        "colab": {
          "base_uri": "https://localhost:8080/",
          "height": 51
        }
      },
      "source": [
        "#要素単位の加算\n",
        "x1 = torch.arange(4)\n",
        "print(torch.add(x1, 4))\n",
        "\n",
        "#要素単位の乗算\n",
        "x1 = torch.arange(4)\n",
        "print(torch.mul(x1, 4))"
      ],
      "execution_count": 25,
      "outputs": [
        {
          "output_type": "stream",
          "text": [
            "tensor([4, 5, 6, 7])\n",
            "tensor([ 0,  4,  8, 12])\n"
          ],
          "name": "stdout"
        }
      ]
    },
    {
      "cell_type": "code",
      "metadata": {
        "id": "kZcrMFJPMkuh",
        "colab_type": "code",
        "outputId": "91b88d12-eb0b-486f-b866-16a2e1db9129",
        "colab": {
          "base_uri": "https://localhost:8080/",
          "height": 153
        }
      },
      "source": [
        "#ベクトル同士の内積\n",
        "x1 = torch.arange(4)\n",
        "x2 = torch.arange(4)\n",
        "print(torch.matmul(x1, x2))\n",
        "print(torch.dot(x1, x2))\n",
        "\n",
        "#行列とベクトルの積\n",
        "X1 = torch.arange(8).view(2, 4)\n",
        "x2 = torch.arange(4)\n",
        "print(torch.matmul(X1, x2))\n",
        "print(torch.mv(X1, x2))\n",
        "\n",
        "#行列同士の積\n",
        "X1 = torch.arange(8).view(2, 4)\n",
        "X2 = torch.arange(8).view(2, 4).t()\n",
        "print(torch.matmul(X1, X2))\n",
        "print(torch.mm(X1, X2))"
      ],
      "execution_count": 26,
      "outputs": [
        {
          "output_type": "stream",
          "text": [
            "tensor(14)\n",
            "tensor(14)\n",
            "tensor([14, 38])\n",
            "tensor([14, 38])\n",
            "tensor([[ 14,  38],\n",
            "        [ 38, 126]])\n",
            "tensor([[ 14,  38],\n",
            "        [ 38, 126]])\n"
          ],
          "name": "stdout"
        }
      ]
    },
    {
      "cell_type": "code",
      "metadata": {
        "id": "rzELngcwPIqg",
        "colab_type": "code",
        "outputId": "641a8673-b84e-40f9-82fa-ea849278ec6d",
        "colab": {
          "base_uri": "https://localhost:8080/",
          "height": 323
        }
      },
      "source": [
        "#バッチサイズ3の(2,4)行列と(4,2)行列の行列積 \n",
        "X1 = torch.arange(24).view(-1, 2, 4)\n",
        "X2 = torch.arange(24).view(-1, 4, 2)\n",
        "print(X1.size())\n",
        "print(X2.size())\n",
        "print(torch.matmul(X1, X2))\n",
        "print(torch.bmm(X1, X2))"
      ],
      "execution_count": 27,
      "outputs": [
        {
          "output_type": "stream",
          "text": [
            "torch.Size([3, 2, 4])\n",
            "torch.Size([3, 4, 2])\n",
            "tensor([[[  28,   34],\n",
            "         [  76,   98]],\n",
            "\n",
            "        [[ 428,  466],\n",
            "         [ 604,  658]],\n",
            "\n",
            "        [[1340, 1410],\n",
            "         [1644, 1730]]])\n",
            "tensor([[[  28,   34],\n",
            "         [  76,   98]],\n",
            "\n",
            "        [[ 428,  466],\n",
            "         [ 604,  658]],\n",
            "\n",
            "        [[1340, 1410],\n",
            "         [1644, 1730]]])\n"
          ],
          "name": "stdout"
        }
      ]
    },
    {
      "cell_type": "markdown",
      "metadata": {
        "id": "bK_HVyWj0T2E",
        "colab_type": "text"
      },
      "source": [
        "## データ型"
      ]
    },
    {
      "cell_type": "code",
      "metadata": {
        "id": "4kX6PFPb6T2X",
        "colab_type": "code",
        "outputId": "9bbb416b-4978-4fca-efe1-8c14c96cb7e0",
        "colab": {
          "base_uri": "https://localhost:8080/",
          "height": 34
        }
      },
      "source": [
        "np_array = np.array([1, 2, 3])\n",
        "np_array.dtype"
      ],
      "execution_count": 28,
      "outputs": [
        {
          "output_type": "execute_result",
          "data": {
            "text/plain": [
              "dtype('int64')"
            ]
          },
          "metadata": {
            "tags": []
          },
          "execution_count": 28
        }
      ]
    },
    {
      "cell_type": "code",
      "metadata": {
        "id": "sLFUjdUO0YMC",
        "colab_type": "code",
        "outputId": "f25bc6a9-6fd4-43b6-edd1-2fb35f07abd6",
        "colab": {
          "base_uri": "https://localhost:8080/",
          "height": 34
        }
      },
      "source": [
        "np_array = np.array([1., 2., 3.])\n",
        "np_array.dtype"
      ],
      "execution_count": 29,
      "outputs": [
        {
          "output_type": "execute_result",
          "data": {
            "text/plain": [
              "dtype('float64')"
            ]
          },
          "metadata": {
            "tags": []
          },
          "execution_count": 29
        }
      ]
    },
    {
      "cell_type": "code",
      "metadata": {
        "id": "U7DG1GOF0ZCC",
        "colab_type": "code",
        "outputId": "a966f6e4-4963-481f-e5d7-e73d949bd89e",
        "colab": {
          "base_uri": "https://localhost:8080/",
          "height": 34
        }
      },
      "source": [
        "np_array = np.array([0, 1, 2, 3])\n",
        "torch_array = torch.from_numpy(np_array)\n",
        "torch_array.type()"
      ],
      "execution_count": 30,
      "outputs": [
        {
          "output_type": "execute_result",
          "data": {
            "text/plain": [
              "'torch.LongTensor'"
            ]
          },
          "metadata": {
            "tags": []
          },
          "execution_count": 30
        }
      ]
    },
    {
      "cell_type": "code",
      "metadata": {
        "id": "u5WmB53R0Z0m",
        "colab_type": "code",
        "outputId": "c5ff8dbc-31af-4988-b5cf-25888567b638",
        "colab": {
          "base_uri": "https://localhost:8080/",
          "height": 34
        }
      },
      "source": [
        "np_array = np.array([1., 2., 3.])\n",
        "torch_array = torch.from_numpy(np_array)\n",
        "torch_array.type()"
      ],
      "execution_count": 31,
      "outputs": [
        {
          "output_type": "execute_result",
          "data": {
            "text/plain": [
              "'torch.DoubleTensor'"
            ]
          },
          "metadata": {
            "tags": []
          },
          "execution_count": 31
        }
      ]
    },
    {
      "cell_type": "code",
      "metadata": {
        "id": "cIwkAaur0akr",
        "colab_type": "code",
        "outputId": "83153f19-3a30-4bc0-9238-a125032bba77",
        "colab": {
          "base_uri": "https://localhost:8080/",
          "height": 34
        }
      },
      "source": [
        "np_array = np.array([1, 2, 3], dtype=float)\n",
        "np_array.dtype"
      ],
      "execution_count": 32,
      "outputs": [
        {
          "output_type": "execute_result",
          "data": {
            "text/plain": [
              "dtype('float64')"
            ]
          },
          "metadata": {
            "tags": []
          },
          "execution_count": 32
        }
      ]
    },
    {
      "cell_type": "code",
      "metadata": {
        "id": "hoOJ4BwZ0bVM",
        "colab_type": "code",
        "outputId": "48315179-5b48-42fc-fcdd-00def2bfd28f",
        "colab": {
          "base_uri": "https://localhost:8080/",
          "height": 51
        }
      },
      "source": [
        "np_array = np.array([1, 2, 3], dtype=float)\n",
        "torch_array = torch.from_numpy(np_array)\n",
        "print(torch_array.dtype)\n",
        "print(torch_array.type())"
      ],
      "execution_count": 33,
      "outputs": [
        {
          "output_type": "stream",
          "text": [
            "torch.float64\n",
            "torch.DoubleTensor\n"
          ],
          "name": "stdout"
        }
      ]
    },
    {
      "cell_type": "code",
      "metadata": {
        "id": "3yc1FSrw3I-0",
        "colab_type": "code",
        "outputId": "44888aa2-6921-4885-ecc2-26ad972bf501",
        "colab": {
          "base_uri": "https://localhost:8080/",
          "height": 51
        }
      },
      "source": [
        "np_array = np.array([1, 2, 3], dtype='int64')\n",
        "torch_array = torch.from_numpy(np_array)\n",
        "print(torch_array.dtype)\n",
        "print(torch_array.type())"
      ],
      "execution_count": 34,
      "outputs": [
        {
          "output_type": "stream",
          "text": [
            "torch.int64\n",
            "torch.LongTensor\n"
          ],
          "name": "stdout"
        }
      ]
    },
    {
      "cell_type": "code",
      "metadata": {
        "id": "Cym_IKY_BXBA",
        "colab_type": "code",
        "outputId": "475369d2-a28a-4706-a3d2-2adc6bf27677",
        "colab": {
          "base_uri": "https://localhost:8080/",
          "height": 34
        }
      },
      "source": [
        "#dtypeは型そのものを返す\n",
        "type(torch_array.dtype)"
      ],
      "execution_count": 35,
      "outputs": [
        {
          "output_type": "execute_result",
          "data": {
            "text/plain": [
              "torch.dtype"
            ]
          },
          "metadata": {
            "tags": []
          },
          "execution_count": 35
        }
      ]
    },
    {
      "cell_type": "code",
      "metadata": {
        "id": "K1qW1DpoBdUi",
        "colab_type": "code",
        "outputId": "cdbe4ff5-277f-4dc0-82ef-c8854640ffb2",
        "colab": {
          "base_uri": "https://localhost:8080/",
          "height": 34
        }
      },
      "source": [
        "#type()は文字列が返ってくる\n",
        "type(torch_array.type())"
      ],
      "execution_count": 36,
      "outputs": [
        {
          "output_type": "execute_result",
          "data": {
            "text/plain": [
              "str"
            ]
          },
          "metadata": {
            "tags": []
          },
          "execution_count": 36
        }
      ]
    },
    {
      "cell_type": "markdown",
      "metadata": {
        "id": "fXTVONMj0fT9",
        "colab_type": "text"
      },
      "source": [
        "## Tensor形状をチェックする"
      ]
    },
    {
      "cell_type": "code",
      "metadata": {
        "id": "iRpLlmzk0cS5",
        "colab_type": "code",
        "outputId": "811e7bed-186d-4d94-db0c-7e956de22245",
        "colab": {
          "base_uri": "https://localhost:8080/",
          "height": 68
        }
      },
      "source": [
        "xf_numpy = np.ndarray([2, 3], dtype='float32')\n",
        "print(xf_numpy)\n",
        "print(xf_numpy.shape)"
      ],
      "execution_count": 37,
      "outputs": [
        {
          "output_type": "stream",
          "text": [
            "[[0.    1.875 0.   ]\n",
            " [2.    0.    2.125]]\n",
            "(2, 3)\n"
          ],
          "name": "stdout"
        }
      ]
    },
    {
      "cell_type": "code",
      "metadata": {
        "id": "A0ahCcra0gY1",
        "colab_type": "code",
        "outputId": "bb5fd5d6-7cd3-459d-dcd6-99e86f3be404",
        "colab": {
          "base_uri": "https://localhost:8080/",
          "height": 68
        }
      },
      "source": [
        "import torch\n",
        "xf_torch = torch.FloatTensor(2, 3)\n",
        "print(xf_torch)\n",
        "print(xf_torch.size())"
      ],
      "execution_count": 38,
      "outputs": [
        {
          "output_type": "stream",
          "text": [
            "tensor([[1.0265e-35, 0.0000e+00, 3.7835e-44],\n",
            "        [0.0000e+00,        nan, 0.0000e+00]])\n",
            "torch.Size([2, 3])\n"
          ],
          "name": "stdout"
        }
      ]
    },
    {
      "cell_type": "code",
      "metadata": {
        "id": "pqVffeK20hNJ",
        "colab_type": "code",
        "colab": {}
      },
      "source": [
        ""
      ],
      "execution_count": 0,
      "outputs": []
    }
  ]
}