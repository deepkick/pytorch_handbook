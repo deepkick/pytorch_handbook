{
  "nbformat": 4,
  "nbformat_minor": 0,
  "metadata": {
    "colab": {
      "name": "section2_3.ipynb",
      "provenance": [],
      "collapsed_sections": []
    },
    "kernelspec": {
      "name": "python3",
      "display_name": "Python 3"
    },
    "accelerator": "GPU"
  },
  "cells": [
    {
      "cell_type": "code",
      "metadata": {
        "id": "YNNzI3Nei5_R",
        "colab_type": "code",
        "colab": {}
      },
      "source": [
        "# #colabを使う方はこちらを使用ください。\n",
        "# !pip install torch==0.4.1\n",
        "# !pip install torchvision==0.2.1\n",
        "# !pip install numpy==1.14.6\n",
        "# !pip install matplotlib==2.1.2\n",
        "# !pip install pillow==5.0.0\n",
        "# !pip install opencv-python==3.4.3.18"
      ],
      "execution_count": 0,
      "outputs": []
    },
    {
      "cell_type": "code",
      "metadata": {
        "id": "_6qBFEEYYwy8",
        "colab_type": "code",
        "colab": {}
      },
      "source": [
        "import torch\n",
        "import torchvision\n",
        "import torch.nn as nn\n",
        "import torch.optim as optim\n",
        "import torch.nn.functional as F\n",
        "import torchvision.transforms as transforms\n",
        "%matplotlib inline\n",
        "import numpy as np\n",
        "from matplotlib import pyplot as plt"
      ],
      "execution_count": 0,
      "outputs": []
    },
    {
      "cell_type": "markdown",
      "metadata": {
        "id": "_GljkNUQN2U3",
        "colab_type": "text"
      },
      "source": [
        "# ネットワーク定義"
      ]
    },
    {
      "cell_type": "markdown",
      "metadata": {
        "id": "uDFG82mzIISs",
        "colab_type": "text"
      },
      "source": [
        "### Sequentialを使った書き方\n",
        "\n"
      ]
    },
    {
      "cell_type": "code",
      "metadata": {
        "id": "9UQJ0pf1H4KY",
        "colab_type": "code",
        "outputId": "f8780a51-b1dd-4cd6-e2b5-34de1c26f3b9",
        "colab": {
          "base_uri": "https://localhost:8080/",
          "height": 121
        }
      },
      "source": [
        "model = nn.Sequential(\n",
        "          nn.Conv2d(1,20,5),\n",
        "          nn.ReLU(),\n",
        "          nn.Conv2d(20,64,5),\n",
        "          nn.ReLU()\n",
        "        )\n",
        "model"
      ],
      "execution_count": 0,
      "outputs": [
        {
          "output_type": "execute_result",
          "data": {
            "text/plain": [
              "Sequential(\n",
              "  (0): Conv2d(1, 20, kernel_size=(5, 5), stride=(1, 1))\n",
              "  (1): ReLU()\n",
              "  (2): Conv2d(20, 64, kernel_size=(5, 5), stride=(1, 1))\n",
              "  (3): ReLU()\n",
              ")"
            ]
          },
          "metadata": {
            "tags": []
          },
          "execution_count": 3
        }
      ]
    },
    {
      "cell_type": "code",
      "metadata": {
        "id": "D3iMZCPFH4NN",
        "colab_type": "code",
        "outputId": "25b75fab-8869-481b-8f0f-e4847fc5e947",
        "colab": {
          "base_uri": "https://localhost:8080/",
          "height": 121
        }
      },
      "source": [
        "model = torch.nn.Sequential()\n",
        "model.add_module(\"conv1\", nn.Conv2d(1,20,5))\n",
        "model.add_module(\"relu1\", nn.ReLU())\n",
        "model.add_module(\"conv2\", nn.Conv2d(20,64,5))\n",
        "model.add_module(\"relu2\", nn.ReLU())\n",
        "model"
      ],
      "execution_count": 0,
      "outputs": [
        {
          "output_type": "execute_result",
          "data": {
            "text/plain": [
              "Sequential(\n",
              "  (conv1): Conv2d(1, 20, kernel_size=(5, 5), stride=(1, 1))\n",
              "  (relu1): ReLU()\n",
              "  (conv2): Conv2d(20, 64, kernel_size=(5, 5), stride=(1, 1))\n",
              "  (relu2): ReLU()\n",
              ")"
            ]
          },
          "metadata": {
            "tags": []
          },
          "execution_count": 4
        }
      ]
    },
    {
      "cell_type": "code",
      "metadata": {
        "id": "7O85m0C2H4QC",
        "colab_type": "code",
        "outputId": "06192665-ca12-4c58-ceb4-06ed72ca4e01",
        "colab": {
          "base_uri": "https://localhost:8080/",
          "height": 121
        }
      },
      "source": [
        "from collections import OrderedDict\n",
        "model = nn.Sequential(OrderedDict([\n",
        "          ('conv1', nn.Conv2d(1,20,5)),\n",
        "          ('relu1', nn.ReLU()),\n",
        "          ('conv2', nn.Conv2d(20,64,5)),\n",
        "          ('relu2', nn.ReLU())\n",
        "        ]))\n",
        "model"
      ],
      "execution_count": 0,
      "outputs": [
        {
          "output_type": "execute_result",
          "data": {
            "text/plain": [
              "Sequential(\n",
              "  (conv1): Conv2d(1, 20, kernel_size=(5, 5), stride=(1, 1))\n",
              "  (relu1): ReLU()\n",
              "  (conv2): Conv2d(20, 64, kernel_size=(5, 5), stride=(1, 1))\n",
              "  (relu2): ReLU()\n",
              ")"
            ]
          },
          "metadata": {
            "tags": []
          },
          "execution_count": 5
        }
      ]
    },
    {
      "cell_type": "markdown",
      "metadata": {
        "id": "HoMwzFF9LwOY",
        "colab_type": "text"
      },
      "source": [
        "## nn.Moduleを継承した書き方\n"
      ]
    },
    {
      "cell_type": "code",
      "metadata": {
        "id": "7EpfHWEIL2Bz",
        "colab_type": "code",
        "outputId": "779eca46-3c1d-4613-e14e-e97bcfc46433",
        "colab": {
          "base_uri": "https://localhost:8080/",
          "height": 86
        }
      },
      "source": [
        "import torch.nn as nn\n",
        "import torch.nn.functional as F\n",
        "\n",
        "class Model(nn.Module):\n",
        "    def __init__(self):\n",
        "        super(Model, self).__init__()\n",
        "        self.conv1 = nn.Conv2d(1, 20, 5)\n",
        "        self.conv2 = nn.Conv2d(20, 64, 5)\n",
        "\n",
        "    def forward(self, x):\n",
        "        x = F.relu(self.conv1(x))\n",
        "        return F.relu(self.conv2(x))\n",
        "      \n",
        "model = Model()\n",
        "model"
      ],
      "execution_count": 0,
      "outputs": [
        {
          "output_type": "execute_result",
          "data": {
            "text/plain": [
              "Model(\n",
              "  (conv1): Conv2d(1, 20, kernel_size=(5, 5), stride=(1, 1))\n",
              "  (conv2): Conv2d(20, 64, kernel_size=(5, 5), stride=(1, 1))\n",
              ")"
            ]
          },
          "metadata": {
            "tags": []
          },
          "execution_count": 2
        }
      ]
    },
    {
      "cell_type": "markdown",
      "metadata": {
        "id": "XOXtN9UJ83En",
        "colab_type": "text"
      },
      "source": [
        "## nn.ModuleListを使った書き方\n"
      ]
    },
    {
      "cell_type": "code",
      "metadata": {
        "id": "5hvttCykNy5w",
        "colab_type": "code",
        "outputId": "b9321190-b15f-4850-a804-e4b820e82d7d",
        "colab": {
          "base_uri": "https://localhost:8080/",
          "height": 121
        }
      },
      "source": [
        "class Model(nn.Module):\n",
        "    def __init__(self):\n",
        "        super(Model, self).__init__()\n",
        "        self.convs = nn.ModuleList([nn.Conv2d(1, 20, 5), nn.Conv2d(20, 64, 5)])\n",
        "\n",
        "    def forward(self, x):\n",
        "        for i, l in enumerate(self.convs):\n",
        "            x = l(x)\n",
        "        return x\n",
        "      \n",
        "model = Model()\n",
        "model"
      ],
      "execution_count": 0,
      "outputs": [
        {
          "output_type": "execute_result",
          "data": {
            "text/plain": [
              "Model(\n",
              "  (convs): ModuleList(\n",
              "    (0): Conv2d(1, 20, kernel_size=(5, 5), stride=(1, 1))\n",
              "    (1): Conv2d(20, 64, kernel_size=(5, 5), stride=(1, 1))\n",
              "  )\n",
              ")"
            ]
          },
          "metadata": {
            "tags": []
          },
          "execution_count": 3
        }
      ]
    },
    {
      "cell_type": "markdown",
      "metadata": {
        "id": "h9sNAD8Z9XB1",
        "colab_type": "text"
      },
      "source": [
        "## nn.ModuleDictを使った書き方"
      ]
    },
    {
      "cell_type": "code",
      "metadata": {
        "id": "p_Pgahz9Ny82",
        "colab_type": "code",
        "outputId": "66a95f40-ab67-4db2-d381-84bc69c1375d",
        "colab": {
          "base_uri": "https://localhost:8080/",
          "height": 121
        }
      },
      "source": [
        "class Model(nn.Module):\n",
        "    def __init__(self):\n",
        "        super(Model, self).__init__()\n",
        "        self.convs = nn.ModuleDict({'conv1' : nn.Conv2d(1, 20, 5), 'conv2' : nn.Conv2d(20, 64, 5)})\n",
        "\n",
        "    def forward(self, x):\n",
        "        for l in self.convs.values():\n",
        "            x = l(x)\n",
        "        return x\n",
        "      \n",
        "model = Model()\n",
        "model"
      ],
      "execution_count": 0,
      "outputs": [
        {
          "output_type": "execute_result",
          "data": {
            "text/plain": [
              "Model(\n",
              "  (convs): ModuleDict(\n",
              "    (conv1): Conv2d(1, 20, kernel_size=(5, 5), stride=(1, 1))\n",
              "    (conv2): Conv2d(20, 64, kernel_size=(5, 5), stride=(1, 1))\n",
              "  )\n",
              ")"
            ]
          },
          "metadata": {
            "tags": []
          },
          "execution_count": 4
        }
      ]
    },
    {
      "cell_type": "markdown",
      "metadata": {
        "id": "lsXTxmbq9yrT",
        "colab_type": "text"
      },
      "source": [
        "## 自動微分機能"
      ]
    },
    {
      "cell_type": "code",
      "metadata": {
        "id": "v0Tuia_b9Y_D",
        "colab_type": "code",
        "outputId": "ca330eab-d053-4056-9328-c4fd54428c88",
        "colab": {
          "base_uri": "https://localhost:8080/",
          "height": 86
        }
      },
      "source": [
        "# Tensorを作る\n",
        "x = torch.tensor(1, requires_grad=False, dtype=torch.float32)\n",
        "w = torch.tensor(2, requires_grad=True, dtype=torch.float32)\n",
        "b = torch.tensor(3, requires_grad=True, dtype=torch.float32)\n",
        "\n",
        "# 計算グラフを作成する\n",
        "y = w * x + b    # y = 1 * 2 + 3\n",
        "\n",
        "# Tensorを返す\n",
        "print(\"y：\", y)\n",
        "\n",
        "# 勾配計算\n",
        "y.backward()\n",
        "\n",
        "# 勾配を確認\n",
        "print(\"x.grad：\", x.grad) #requires_grad=Falseなので微分計算がない。\n",
        "print(\"w.grad：\", w.grad)\n",
        "print(\"b.grad：\", b.grad)"
      ],
      "execution_count": 0,
      "outputs": [
        {
          "output_type": "stream",
          "text": [
            "y： tensor(5., grad_fn=<ThAddBackward>)\n",
            "x.grad： None\n",
            "w.grad： tensor(1.)\n",
            "b.grad： tensor(1.)\n"
          ],
          "name": "stdout"
        }
      ]
    },
    {
      "cell_type": "code",
      "metadata": {
        "id": "gKMtx1TE9ZBz",
        "colab_type": "code",
        "outputId": "0d465d00-406c-4069-d48a-386177822d53",
        "colab": {
          "base_uri": "https://localhost:8080/",
          "height": 72
        }
      },
      "source": [
        "#ネットワークのパラメータを凍結する\n",
        "net = torchvision.models.vgg16(pretrained=True)\n",
        "for param in net.features.parameters():\n",
        "    param.requires_grad = False"
      ],
      "execution_count": 0,
      "outputs": [
        {
          "output_type": "stream",
          "text": [
            "Downloading: \"https://download.pytorch.org/models/vgg16-397923af.pth\" to /root/.torch/models/vgg16-397923af.pth\n",
            "100%|██████████| 553433881/553433881 [00:25<00:00, 22114532.84it/s]\n"
          ],
          "name": "stderr"
        }
      ]
    },
    {
      "cell_type": "markdown",
      "metadata": {
        "id": "b8B436u5-Ct2",
        "colab_type": "text"
      },
      "source": [
        "## GPUを使用する"
      ]
    },
    {
      "cell_type": "markdown",
      "metadata": {
        "id": "yfzDvWLE-RNm",
        "colab_type": "text"
      },
      "source": [
        "- PyTorch 0.4.0以前"
      ]
    },
    {
      "cell_type": "code",
      "metadata": {
        "id": "ZAXROFJP9ZFI",
        "colab_type": "code",
        "outputId": "f11bb007-2f9f-4b18-fa95-17a66fd48ddb",
        "colab": {
          "base_uri": "https://localhost:8080/",
          "height": 34
        }
      },
      "source": [
        "xf_gpu = torch.FloatTensor(1, 2).cuda()\n",
        "xf_gpu"
      ],
      "execution_count": 0,
      "outputs": [
        {
          "output_type": "execute_result",
          "data": {
            "text/plain": [
              "tensor([[509714.,      0.]], device='cuda:0')"
            ]
          },
          "metadata": {
            "tags": []
          },
          "execution_count": 10
        }
      ]
    },
    {
      "cell_type": "code",
      "metadata": {
        "id": "W-JQ_um9Ny_1",
        "colab_type": "code",
        "outputId": "4221a4ac-9f7e-4b2e-c803-0314f9e96071",
        "colab": {
          "base_uri": "https://localhost:8080/",
          "height": 34
        }
      },
      "source": [
        "xf_cpu = xf_gpu.cpu()\n",
        "xf_cpu"
      ],
      "execution_count": 0,
      "outputs": [
        {
          "output_type": "execute_result",
          "data": {
            "text/plain": [
              "tensor([[509714.,      0.]])"
            ]
          },
          "metadata": {
            "tags": []
          },
          "execution_count": 11
        }
      ]
    },
    {
      "cell_type": "code",
      "metadata": {
        "id": "EQXYHpiL-VWt",
        "colab_type": "code",
        "outputId": "7bb0bd39-2328-4898-a2de-45011f6864ca",
        "colab": {
          "base_uri": "https://localhost:8080/",
          "height": 34
        }
      },
      "source": [
        "xf_numpy = xf_cpu.numpy()\n",
        "xf_numpy"
      ],
      "execution_count": 0,
      "outputs": [
        {
          "output_type": "execute_result",
          "data": {
            "text/plain": [
              "array([[509714.,      0.]], dtype=float32)"
            ]
          },
          "metadata": {
            "tags": []
          },
          "execution_count": 12
        }
      ]
    },
    {
      "cell_type": "markdown",
      "metadata": {
        "id": "37994JDl-X8R",
        "colab_type": "text"
      },
      "source": [
        "- PyTorch 0.4.0, PyTorch 0.4.1"
      ]
    },
    {
      "cell_type": "code",
      "metadata": {
        "id": "7dIx0B8X-WbI",
        "colab_type": "code",
        "outputId": "a2999088-fb7d-48ec-b018-612147b5e347",
        "colab": {
          "base_uri": "https://localhost:8080/",
          "height": 34
        }
      },
      "source": [
        "xf_gpu = torch.FloatTensor(1, 2).to('cuda')\n",
        "xf_gpu"
      ],
      "execution_count": 0,
      "outputs": [
        {
          "output_type": "execute_result",
          "data": {
            "text/plain": [
              "tensor([[5.0971e+05, 0.0000e+00]], device='cuda:0')"
            ]
          },
          "metadata": {
            "tags": []
          },
          "execution_count": 15
        }
      ]
    },
    {
      "cell_type": "code",
      "metadata": {
        "id": "Whk2zW5q-Z8A",
        "colab_type": "code",
        "outputId": "4caad0ab-17bd-429f-cda1-c9d1014efcb1",
        "colab": {
          "base_uri": "https://localhost:8080/",
          "height": 34
        }
      },
      "source": [
        "xf_cpu = xf_gpu.to('cpu')\n",
        "xf_cpu"
      ],
      "execution_count": 0,
      "outputs": [
        {
          "output_type": "execute_result",
          "data": {
            "text/plain": [
              "tensor([[5.0971e+05, 0.0000e+00]])"
            ]
          },
          "metadata": {
            "tags": []
          },
          "execution_count": 16
        }
      ]
    },
    {
      "cell_type": "markdown",
      "metadata": {
        "id": "0kcrNX3j-c8T",
        "colab_type": "text"
      },
      "source": [
        "- PyTorch 0.4.0以前"
      ]
    },
    {
      "cell_type": "code",
      "metadata": {
        "id": "a1MCtBVK-ayc",
        "colab_type": "code",
        "outputId": "a1290e30-b939-4c65-b19a-9a8f9e73a4ac",
        "colab": {
          "base_uri": "https://localhost:8080/",
          "height": 86
        }
      },
      "source": [
        "import torch.nn as nn\n",
        "import torch.nn.functional as F\n",
        "\n",
        "class Model(nn.Module):\n",
        "    def __init__(self):\n",
        "        super(Model, self).__init__()\n",
        "        self.conv1 = nn.Conv2d(1, 20, 5)\n",
        "        self.conv2 = nn.Conv2d(20, 20, 5)\n",
        "\n",
        "    def forward(self, x):\n",
        "        x = F.relu(self.conv1(x))\n",
        "        return F.relu(self.conv2(x))\n",
        "net = Model()\n",
        "net.cuda()"
      ],
      "execution_count": 0,
      "outputs": [
        {
          "output_type": "execute_result",
          "data": {
            "text/plain": [
              "Model(\n",
              "  (conv1): Conv2d(1, 20, kernel_size=(5, 5), stride=(1, 1))\n",
              "  (conv2): Conv2d(20, 20, kernel_size=(5, 5), stride=(1, 1))\n",
              ")"
            ]
          },
          "metadata": {
            "tags": []
          },
          "execution_count": 16
        }
      ]
    },
    {
      "cell_type": "markdown",
      "metadata": {
        "id": "ncstQcFx-gfG",
        "colab_type": "text"
      },
      "source": [
        "- PyTorch 0.4.0, PyTorch 0.4.1"
      ]
    },
    {
      "cell_type": "code",
      "metadata": {
        "id": "IwcrWlbi-dpj",
        "colab_type": "code",
        "outputId": "b1162b00-6297-4c26-c05e-335810ccf85c",
        "colab": {
          "base_uri": "https://localhost:8080/",
          "height": 86
        }
      },
      "source": [
        "import torch.nn as nn\n",
        "import torch.nn.functional as F\n",
        "\n",
        "class Model(nn.Module):\n",
        "    def __init__(self):\n",
        "        super(Model, self).__init__()\n",
        "        self.conv1 = nn.Conv2d(1, 20, 5)\n",
        "        self.conv2 = nn.Conv2d(20, 20, 5)\n",
        "\n",
        "    def forward(self, x):\n",
        "        x = F.relu(self.conv1(x))\n",
        "        return F.relu(self.conv2(x))\n",
        "net = Model()\n",
        "net.to('cuda')"
      ],
      "execution_count": 0,
      "outputs": [
        {
          "output_type": "execute_result",
          "data": {
            "text/plain": [
              "Model(\n",
              "  (conv1): Conv2d(1, 20, kernel_size=(5, 5), stride=(1, 1))\n",
              "  (conv2): Conv2d(20, 20, kernel_size=(5, 5), stride=(1, 1))\n",
              ")"
            ]
          },
          "metadata": {
            "tags": []
          },
          "execution_count": 17
        }
      ]
    },
    {
      "cell_type": "code",
      "metadata": {
        "id": "KFTI54S2-hTf",
        "colab_type": "code",
        "colab": {}
      },
      "source": [
        ""
      ],
      "execution_count": 0,
      "outputs": []
    }
  ]
}