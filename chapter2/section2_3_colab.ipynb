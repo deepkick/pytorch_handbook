{
  "nbformat": 4,
  "nbformat_minor": 0,
  "metadata": {
    "colab": {
      "name": "section2_3.ipynb",
      "provenance": [],
      "collapsed_sections": []
    },
    "kernelspec": {
      "name": "python3",
      "display_name": "Python 3"
    },
    "accelerator": "GPU",
    "widgets": {
      "application/vnd.jupyter.widget-state+json": {
        "6bda0aba63cc4c768dca3749904cd500": {
          "model_module": "@jupyter-widgets/controls",
          "model_name": "HBoxModel",
          "state": {
            "_view_name": "HBoxView",
            "_dom_classes": [],
            "_model_name": "HBoxModel",
            "_view_module": "@jupyter-widgets/controls",
            "_model_module_version": "1.5.0",
            "_view_count": null,
            "_view_module_version": "1.5.0",
            "box_style": "",
            "layout": "IPY_MODEL_5352ace1670042bf9279578c13774fcf",
            "_model_module": "@jupyter-widgets/controls",
            "children": [
              "IPY_MODEL_2983e2033fe64bcd90a68b1de3750260",
              "IPY_MODEL_cd1bfd3a324d41ce897a656e742fa221"
            ]
          }
        },
        "5352ace1670042bf9279578c13774fcf": {
          "model_module": "@jupyter-widgets/base",
          "model_name": "LayoutModel",
          "state": {
            "_view_name": "LayoutView",
            "grid_template_rows": null,
            "right": null,
            "justify_content": null,
            "_view_module": "@jupyter-widgets/base",
            "overflow": null,
            "_model_module_version": "1.2.0",
            "_view_count": null,
            "flex_flow": null,
            "width": null,
            "min_width": null,
            "border": null,
            "align_items": null,
            "bottom": null,
            "_model_module": "@jupyter-widgets/base",
            "top": null,
            "grid_column": null,
            "overflow_y": null,
            "overflow_x": null,
            "grid_auto_flow": null,
            "grid_area": null,
            "grid_template_columns": null,
            "flex": null,
            "_model_name": "LayoutModel",
            "justify_items": null,
            "grid_row": null,
            "max_height": null,
            "align_content": null,
            "visibility": null,
            "align_self": null,
            "height": null,
            "min_height": null,
            "padding": null,
            "grid_auto_rows": null,
            "grid_gap": null,
            "max_width": null,
            "order": null,
            "_view_module_version": "1.2.0",
            "grid_template_areas": null,
            "object_position": null,
            "object_fit": null,
            "grid_auto_columns": null,
            "margin": null,
            "display": null,
            "left": null
          }
        },
        "2983e2033fe64bcd90a68b1de3750260": {
          "model_module": "@jupyter-widgets/controls",
          "model_name": "IntProgressModel",
          "state": {
            "_view_name": "ProgressView",
            "style": "IPY_MODEL_9d9fa746b4924613a644aea7148bfe28",
            "_dom_classes": [],
            "description": "100%",
            "_model_name": "IntProgressModel",
            "bar_style": "success",
            "max": 553433881,
            "_view_module": "@jupyter-widgets/controls",
            "_model_module_version": "1.5.0",
            "value": 553433881,
            "_view_count": null,
            "_view_module_version": "1.5.0",
            "orientation": "horizontal",
            "min": 0,
            "description_tooltip": null,
            "_model_module": "@jupyter-widgets/controls",
            "layout": "IPY_MODEL_b0dae2aa5e0f40729c5d6395b2b123dc"
          }
        },
        "cd1bfd3a324d41ce897a656e742fa221": {
          "model_module": "@jupyter-widgets/controls",
          "model_name": "HTMLModel",
          "state": {
            "_view_name": "HTMLView",
            "style": "IPY_MODEL_5a8dd3b2f728469b86bef049c4dcc1a8",
            "_dom_classes": [],
            "description": "",
            "_model_name": "HTMLModel",
            "placeholder": "​",
            "_view_module": "@jupyter-widgets/controls",
            "_model_module_version": "1.5.0",
            "value": " 528M/528M [00:05&lt;00:00, 106MB/s]",
            "_view_count": null,
            "_view_module_version": "1.5.0",
            "description_tooltip": null,
            "_model_module": "@jupyter-widgets/controls",
            "layout": "IPY_MODEL_b1844e37e077451c97e4921cc111cf72"
          }
        },
        "9d9fa746b4924613a644aea7148bfe28": {
          "model_module": "@jupyter-widgets/controls",
          "model_name": "ProgressStyleModel",
          "state": {
            "_view_name": "StyleView",
            "_model_name": "ProgressStyleModel",
            "description_width": "initial",
            "_view_module": "@jupyter-widgets/base",
            "_model_module_version": "1.5.0",
            "_view_count": null,
            "_view_module_version": "1.2.0",
            "bar_color": null,
            "_model_module": "@jupyter-widgets/controls"
          }
        },
        "b0dae2aa5e0f40729c5d6395b2b123dc": {
          "model_module": "@jupyter-widgets/base",
          "model_name": "LayoutModel",
          "state": {
            "_view_name": "LayoutView",
            "grid_template_rows": null,
            "right": null,
            "justify_content": null,
            "_view_module": "@jupyter-widgets/base",
            "overflow": null,
            "_model_module_version": "1.2.0",
            "_view_count": null,
            "flex_flow": null,
            "width": null,
            "min_width": null,
            "border": null,
            "align_items": null,
            "bottom": null,
            "_model_module": "@jupyter-widgets/base",
            "top": null,
            "grid_column": null,
            "overflow_y": null,
            "overflow_x": null,
            "grid_auto_flow": null,
            "grid_area": null,
            "grid_template_columns": null,
            "flex": null,
            "_model_name": "LayoutModel",
            "justify_items": null,
            "grid_row": null,
            "max_height": null,
            "align_content": null,
            "visibility": null,
            "align_self": null,
            "height": null,
            "min_height": null,
            "padding": null,
            "grid_auto_rows": null,
            "grid_gap": null,
            "max_width": null,
            "order": null,
            "_view_module_version": "1.2.0",
            "grid_template_areas": null,
            "object_position": null,
            "object_fit": null,
            "grid_auto_columns": null,
            "margin": null,
            "display": null,
            "left": null
          }
        },
        "5a8dd3b2f728469b86bef049c4dcc1a8": {
          "model_module": "@jupyter-widgets/controls",
          "model_name": "DescriptionStyleModel",
          "state": {
            "_view_name": "StyleView",
            "_model_name": "DescriptionStyleModel",
            "description_width": "",
            "_view_module": "@jupyter-widgets/base",
            "_model_module_version": "1.5.0",
            "_view_count": null,
            "_view_module_version": "1.2.0",
            "_model_module": "@jupyter-widgets/controls"
          }
        },
        "b1844e37e077451c97e4921cc111cf72": {
          "model_module": "@jupyter-widgets/base",
          "model_name": "LayoutModel",
          "state": {
            "_view_name": "LayoutView",
            "grid_template_rows": null,
            "right": null,
            "justify_content": null,
            "_view_module": "@jupyter-widgets/base",
            "overflow": null,
            "_model_module_version": "1.2.0",
            "_view_count": null,
            "flex_flow": null,
            "width": null,
            "min_width": null,
            "border": null,
            "align_items": null,
            "bottom": null,
            "_model_module": "@jupyter-widgets/base",
            "top": null,
            "grid_column": null,
            "overflow_y": null,
            "overflow_x": null,
            "grid_auto_flow": null,
            "grid_area": null,
            "grid_template_columns": null,
            "flex": null,
            "_model_name": "LayoutModel",
            "justify_items": null,
            "grid_row": null,
            "max_height": null,
            "align_content": null,
            "visibility": null,
            "align_self": null,
            "height": null,
            "min_height": null,
            "padding": null,
            "grid_auto_rows": null,
            "grid_gap": null,
            "max_width": null,
            "order": null,
            "_view_module_version": "1.2.0",
            "grid_template_areas": null,
            "object_position": null,
            "object_fit": null,
            "grid_auto_columns": null,
            "margin": null,
            "display": null,
            "left": null
          }
        }
      }
    }
  },
  "cells": [
    {
      "cell_type": "code",
      "metadata": {
        "id": "YNNzI3Nei5_R",
        "colab_type": "code",
        "colab": {}
      },
      "source": [
        "# #colabを使う方はこちらを使用ください。\n",
        "# !pip install torch==0.4.1\n",
        "# !pip install torchvision==0.2.1\n",
        "# !pip install numpy==1.14.6\n",
        "# !pip install matplotlib==2.1.2\n",
        "# !pip install pillow==5.0.0\n",
        "# !pip install opencv-python==3.4.3.18"
      ],
      "execution_count": 0,
      "outputs": []
    },
    {
      "cell_type": "code",
      "metadata": {
        "id": "_6qBFEEYYwy8",
        "colab_type": "code",
        "colab": {}
      },
      "source": [
        "import torch\n",
        "import torchvision\n",
        "import torch.nn as nn\n",
        "import torch.optim as optim\n",
        "import torch.nn.functional as F\n",
        "import torchvision.transforms as transforms\n",
        "%matplotlib inline\n",
        "import numpy as np\n",
        "from matplotlib import pyplot as plt"
      ],
      "execution_count": 0,
      "outputs": []
    },
    {
      "cell_type": "markdown",
      "metadata": {
        "id": "_GljkNUQN2U3",
        "colab_type": "text"
      },
      "source": [
        "# ネットワーク定義"
      ]
    },
    {
      "cell_type": "markdown",
      "metadata": {
        "id": "uDFG82mzIISs",
        "colab_type": "text"
      },
      "source": [
        "### Sequentialを使った書き方\n",
        "\n"
      ]
    },
    {
      "cell_type": "code",
      "metadata": {
        "id": "9UQJ0pf1H4KY",
        "colab_type": "code",
        "outputId": "65c1150f-ce81-499f-ce7e-ee1a3856f256",
        "colab": {
          "base_uri": "https://localhost:8080/",
          "height": 119
        }
      },
      "source": [
        "model = nn.Sequential(\n",
        "          nn.Conv2d(1,20,5),\n",
        "          nn.ReLU(),\n",
        "          nn.Conv2d(20,64,5),\n",
        "          nn.ReLU()\n",
        "        )\n",
        "model"
      ],
      "execution_count": 3,
      "outputs": [
        {
          "output_type": "execute_result",
          "data": {
            "text/plain": [
              "Sequential(\n",
              "  (0): Conv2d(1, 20, kernel_size=(5, 5), stride=(1, 1))\n",
              "  (1): ReLU()\n",
              "  (2): Conv2d(20, 64, kernel_size=(5, 5), stride=(1, 1))\n",
              "  (3): ReLU()\n",
              ")"
            ]
          },
          "metadata": {
            "tags": []
          },
          "execution_count": 3
        }
      ]
    },
    {
      "cell_type": "code",
      "metadata": {
        "id": "D3iMZCPFH4NN",
        "colab_type": "code",
        "outputId": "64d0581d-26fa-4f63-d795-5a27ec2d40cd",
        "colab": {
          "base_uri": "https://localhost:8080/",
          "height": 119
        }
      },
      "source": [
        "model = torch.nn.Sequential()\n",
        "model.add_module(\"conv1\", nn.Conv2d(1,20,5))\n",
        "model.add_module(\"relu1\", nn.ReLU())\n",
        "model.add_module(\"conv2\", nn.Conv2d(20,64,5))\n",
        "model.add_module(\"relu2\", nn.ReLU())\n",
        "model"
      ],
      "execution_count": 4,
      "outputs": [
        {
          "output_type": "execute_result",
          "data": {
            "text/plain": [
              "Sequential(\n",
              "  (conv1): Conv2d(1, 20, kernel_size=(5, 5), stride=(1, 1))\n",
              "  (relu1): ReLU()\n",
              "  (conv2): Conv2d(20, 64, kernel_size=(5, 5), stride=(1, 1))\n",
              "  (relu2): ReLU()\n",
              ")"
            ]
          },
          "metadata": {
            "tags": []
          },
          "execution_count": 4
        }
      ]
    },
    {
      "cell_type": "code",
      "metadata": {
        "id": "7O85m0C2H4QC",
        "colab_type": "code",
        "outputId": "0690751c-d3a0-4df5-855f-403f14e48a84",
        "colab": {
          "base_uri": "https://localhost:8080/",
          "height": 119
        }
      },
      "source": [
        "from collections import OrderedDict\n",
        "model = nn.Sequential(OrderedDict([\n",
        "          ('conv1', nn.Conv2d(1,20,5)),\n",
        "          ('relu1', nn.ReLU()),\n",
        "          ('conv2', nn.Conv2d(20,64,5)),\n",
        "          ('relu2', nn.ReLU())\n",
        "        ]))\n",
        "model"
      ],
      "execution_count": 5,
      "outputs": [
        {
          "output_type": "execute_result",
          "data": {
            "text/plain": [
              "Sequential(\n",
              "  (conv1): Conv2d(1, 20, kernel_size=(5, 5), stride=(1, 1))\n",
              "  (relu1): ReLU()\n",
              "  (conv2): Conv2d(20, 64, kernel_size=(5, 5), stride=(1, 1))\n",
              "  (relu2): ReLU()\n",
              ")"
            ]
          },
          "metadata": {
            "tags": []
          },
          "execution_count": 5
        }
      ]
    },
    {
      "cell_type": "markdown",
      "metadata": {
        "id": "HoMwzFF9LwOY",
        "colab_type": "text"
      },
      "source": [
        "## nn.Moduleを継承した書き方\n"
      ]
    },
    {
      "cell_type": "code",
      "metadata": {
        "id": "7EpfHWEIL2Bz",
        "colab_type": "code",
        "outputId": "6de091cb-1b75-4d5f-fd0d-da4d1986067d",
        "colab": {
          "base_uri": "https://localhost:8080/",
          "height": 85
        }
      },
      "source": [
        "import torch.nn as nn\n",
        "import torch.nn.functional as F\n",
        "\n",
        "class Model(nn.Module):\n",
        "    def __init__(self):\n",
        "        super(Model, self).__init__()\n",
        "        self.conv1 = nn.Conv2d(1, 20, 5)\n",
        "        self.conv2 = nn.Conv2d(20, 64, 5)\n",
        "\n",
        "    def forward(self, x):\n",
        "        x = F.relu(self.conv1(x))\n",
        "        return F.relu(self.conv2(x))\n",
        "      \n",
        "model = Model()\n",
        "model"
      ],
      "execution_count": 6,
      "outputs": [
        {
          "output_type": "execute_result",
          "data": {
            "text/plain": [
              "Model(\n",
              "  (conv1): Conv2d(1, 20, kernel_size=(5, 5), stride=(1, 1))\n",
              "  (conv2): Conv2d(20, 64, kernel_size=(5, 5), stride=(1, 1))\n",
              ")"
            ]
          },
          "metadata": {
            "tags": []
          },
          "execution_count": 6
        }
      ]
    },
    {
      "cell_type": "markdown",
      "metadata": {
        "id": "XOXtN9UJ83En",
        "colab_type": "text"
      },
      "source": [
        "## nn.ModuleListを使った書き方\n"
      ]
    },
    {
      "cell_type": "code",
      "metadata": {
        "id": "5hvttCykNy5w",
        "colab_type": "code",
        "outputId": "7bb2332b-61e6-4440-e2eb-282d4602606c",
        "colab": {
          "base_uri": "https://localhost:8080/",
          "height": 119
        }
      },
      "source": [
        "class Model(nn.Module):\n",
        "    def __init__(self):\n",
        "        super(Model, self).__init__()\n",
        "        self.convs = nn.ModuleList([nn.Conv2d(1, 20, 5), nn.Conv2d(20, 64, 5)])\n",
        "\n",
        "    def forward(self, x):\n",
        "        for i, l in enumerate(self.convs):\n",
        "            x = l(x)\n",
        "        return x\n",
        "      \n",
        "model = Model()\n",
        "model"
      ],
      "execution_count": 7,
      "outputs": [
        {
          "output_type": "execute_result",
          "data": {
            "text/plain": [
              "Model(\n",
              "  (convs): ModuleList(\n",
              "    (0): Conv2d(1, 20, kernel_size=(5, 5), stride=(1, 1))\n",
              "    (1): Conv2d(20, 64, kernel_size=(5, 5), stride=(1, 1))\n",
              "  )\n",
              ")"
            ]
          },
          "metadata": {
            "tags": []
          },
          "execution_count": 7
        }
      ]
    },
    {
      "cell_type": "markdown",
      "metadata": {
        "id": "h9sNAD8Z9XB1",
        "colab_type": "text"
      },
      "source": [
        "## nn.ModuleDictを使った書き方"
      ]
    },
    {
      "cell_type": "code",
      "metadata": {
        "id": "p_Pgahz9Ny82",
        "colab_type": "code",
        "outputId": "7074ff31-e8f1-4f3f-f9e2-c9dea6711519",
        "colab": {
          "base_uri": "https://localhost:8080/",
          "height": 119
        }
      },
      "source": [
        "class Model(nn.Module):\n",
        "    def __init__(self):\n",
        "        super(Model, self).__init__()\n",
        "        self.convs = nn.ModuleDict({'conv1' : nn.Conv2d(1, 20, 5), 'conv2' : nn.Conv2d(20, 64, 5)})\n",
        "\n",
        "    def forward(self, x):\n",
        "        for l in self.convs.values():\n",
        "            x = l(x)\n",
        "        return x\n",
        "      \n",
        "model = Model()\n",
        "model"
      ],
      "execution_count": 11,
      "outputs": [
        {
          "output_type": "execute_result",
          "data": {
            "text/plain": [
              "Model(\n",
              "  (convs): ModuleDict(\n",
              "    (conv1): Conv2d(1, 20, kernel_size=(5, 5), stride=(1, 1))\n",
              "    (conv2): Conv2d(20, 64, kernel_size=(5, 5), stride=(1, 1))\n",
              "  )\n",
              ")"
            ]
          },
          "metadata": {
            "tags": []
          },
          "execution_count": 11
        }
      ]
    },
    {
      "cell_type": "markdown",
      "metadata": {
        "id": "lsXTxmbq9yrT",
        "colab_type": "text"
      },
      "source": [
        "## 自動微分機能"
      ]
    },
    {
      "cell_type": "code",
      "metadata": {
        "id": "v0Tuia_b9Y_D",
        "colab_type": "code",
        "outputId": "3a70907c-f0e2-46c9-f0a9-7321738eac46",
        "colab": {
          "base_uri": "https://localhost:8080/",
          "height": 85
        }
      },
      "source": [
        "# Tensorを作る\n",
        "x = torch.tensor(1, requires_grad=False, dtype=torch.float32)\n",
        "w = torch.tensor(2, requires_grad=True, dtype=torch.float32)\n",
        "b = torch.tensor(3, requires_grad=True, dtype=torch.float32)\n",
        "\n",
        "# 計算グラフを作成する\n",
        "y = w * x + b    # y = 1 * 2 + 3\n",
        "\n",
        "# Tensorを返す\n",
        "print(\"y：\", y)\n",
        "\n",
        "# 勾配計算\n",
        "y.backward()\n",
        "\n",
        "# 勾配を確認\n",
        "print(\"x.grad：\", x.grad) #requires_grad=Falseなので微分計算がない。\n",
        "print(\"w.grad：\", w.grad)\n",
        "print(\"b.grad：\", b.grad)"
      ],
      "execution_count": 12,
      "outputs": [
        {
          "output_type": "stream",
          "text": [
            "y： tensor(5., grad_fn=<AddBackward0>)\n",
            "x.grad： None\n",
            "w.grad： tensor(1.)\n",
            "b.grad： tensor(1.)\n"
          ],
          "name": "stdout"
        }
      ]
    },
    {
      "cell_type": "code",
      "metadata": {
        "id": "gKMtx1TE9ZBz",
        "colab_type": "code",
        "outputId": "bd85d2a7-092a-4a31-e6e8-40c37024339a",
        "colab": {
          "base_uri": "https://localhost:8080/",
          "height": 83,
          "referenced_widgets": [
            "6bda0aba63cc4c768dca3749904cd500",
            "5352ace1670042bf9279578c13774fcf",
            "2983e2033fe64bcd90a68b1de3750260",
            "cd1bfd3a324d41ce897a656e742fa221",
            "9d9fa746b4924613a644aea7148bfe28",
            "b0dae2aa5e0f40729c5d6395b2b123dc",
            "5a8dd3b2f728469b86bef049c4dcc1a8",
            "b1844e37e077451c97e4921cc111cf72"
          ]
        }
      },
      "source": [
        "#ネットワークのパラメータを凍結する\n",
        "net = torchvision.models.vgg16(pretrained=True)\n",
        "for param in net.features.parameters():\n",
        "    param.requires_grad = False"
      ],
      "execution_count": 13,
      "outputs": [
        {
          "output_type": "stream",
          "text": [
            "Downloading: \"https://download.pytorch.org/models/vgg16-397923af.pth\" to /root/.cache/torch/checkpoints/vgg16-397923af.pth\n"
          ],
          "name": "stderr"
        },
        {
          "output_type": "display_data",
          "data": {
            "application/vnd.jupyter.widget-view+json": {
              "model_id": "6bda0aba63cc4c768dca3749904cd500",
              "version_minor": 0,
              "version_major": 2
            },
            "text/plain": [
              "HBox(children=(IntProgress(value=0, max=553433881), HTML(value='')))"
            ]
          },
          "metadata": {
            "tags": []
          }
        },
        {
          "output_type": "stream",
          "text": [
            "\n"
          ],
          "name": "stdout"
        }
      ]
    },
    {
      "cell_type": "markdown",
      "metadata": {
        "id": "b8B436u5-Ct2",
        "colab_type": "text"
      },
      "source": [
        "## GPUを使用する"
      ]
    },
    {
      "cell_type": "markdown",
      "metadata": {
        "id": "yfzDvWLE-RNm",
        "colab_type": "text"
      },
      "source": [
        "- PyTorch 0.4.0以前"
      ]
    },
    {
      "cell_type": "code",
      "metadata": {
        "id": "ZAXROFJP9ZFI",
        "colab_type": "code",
        "outputId": "6a55dc90-147c-49ce-b04d-b8ef03e668af",
        "colab": {
          "base_uri": "https://localhost:8080/",
          "height": 34
        }
      },
      "source": [
        "xf_gpu = torch.FloatTensor(1, 2).cuda()\n",
        "xf_gpu"
      ],
      "execution_count": 14,
      "outputs": [
        {
          "output_type": "execute_result",
          "data": {
            "text/plain": [
              "tensor([[2.0885e-35, 0.0000e+00]], device='cuda:0')"
            ]
          },
          "metadata": {
            "tags": []
          },
          "execution_count": 14
        }
      ]
    },
    {
      "cell_type": "code",
      "metadata": {
        "id": "W-JQ_um9Ny_1",
        "colab_type": "code",
        "outputId": "79cde022-32e4-4575-e789-1b17378f44cd",
        "colab": {
          "base_uri": "https://localhost:8080/",
          "height": 34
        }
      },
      "source": [
        "xf_cpu = xf_gpu.cpu()\n",
        "xf_cpu"
      ],
      "execution_count": 15,
      "outputs": [
        {
          "output_type": "execute_result",
          "data": {
            "text/plain": [
              "tensor([[2.0885e-35, 0.0000e+00]])"
            ]
          },
          "metadata": {
            "tags": []
          },
          "execution_count": 15
        }
      ]
    },
    {
      "cell_type": "code",
      "metadata": {
        "id": "EQXYHpiL-VWt",
        "colab_type": "code",
        "outputId": "7d2666b0-ef80-4842-a417-c4c60b5148be",
        "colab": {
          "base_uri": "https://localhost:8080/",
          "height": 34
        }
      },
      "source": [
        "xf_numpy = xf_cpu.numpy()\n",
        "xf_numpy"
      ],
      "execution_count": 16,
      "outputs": [
        {
          "output_type": "execute_result",
          "data": {
            "text/plain": [
              "array([[2.088532e-35, 0.000000e+00]], dtype=float32)"
            ]
          },
          "metadata": {
            "tags": []
          },
          "execution_count": 16
        }
      ]
    },
    {
      "cell_type": "markdown",
      "metadata": {
        "id": "37994JDl-X8R",
        "colab_type": "text"
      },
      "source": [
        "- PyTorch 0.4.0, PyTorch 0.4.1"
      ]
    },
    {
      "cell_type": "code",
      "metadata": {
        "id": "7dIx0B8X-WbI",
        "colab_type": "code",
        "outputId": "296acb39-caa2-4629-cebf-ea2e980d46c2",
        "colab": {
          "base_uri": "https://localhost:8080/",
          "height": 34
        }
      },
      "source": [
        "xf_gpu = torch.FloatTensor(1, 2).to('cuda')\n",
        "xf_gpu"
      ],
      "execution_count": 17,
      "outputs": [
        {
          "output_type": "execute_result",
          "data": {
            "text/plain": [
              "tensor([[2.0505e+29, 0.0000e+00]], device='cuda:0')"
            ]
          },
          "metadata": {
            "tags": []
          },
          "execution_count": 17
        }
      ]
    },
    {
      "cell_type": "code",
      "metadata": {
        "id": "Whk2zW5q-Z8A",
        "colab_type": "code",
        "outputId": "d33dea7c-f8d9-4607-b595-c56890a2deb8",
        "colab": {
          "base_uri": "https://localhost:8080/",
          "height": 34
        }
      },
      "source": [
        "xf_cpu = xf_gpu.to('cpu')\n",
        "xf_cpu"
      ],
      "execution_count": 18,
      "outputs": [
        {
          "output_type": "execute_result",
          "data": {
            "text/plain": [
              "tensor([[2.0505e+29, 0.0000e+00]])"
            ]
          },
          "metadata": {
            "tags": []
          },
          "execution_count": 18
        }
      ]
    },
    {
      "cell_type": "markdown",
      "metadata": {
        "id": "0kcrNX3j-c8T",
        "colab_type": "text"
      },
      "source": [
        "- PyTorch 0.4.0以前"
      ]
    },
    {
      "cell_type": "code",
      "metadata": {
        "id": "a1MCtBVK-ayc",
        "colab_type": "code",
        "outputId": "4d13a753-9d76-441b-9043-c957bd751ddf",
        "colab": {
          "base_uri": "https://localhost:8080/",
          "height": 85
        }
      },
      "source": [
        "import torch.nn as nn\n",
        "import torch.nn.functional as F\n",
        "\n",
        "class Model(nn.Module):\n",
        "    def __init__(self):\n",
        "        super(Model, self).__init__()\n",
        "        self.conv1 = nn.Conv2d(1, 20, 5)\n",
        "        self.conv2 = nn.Conv2d(20, 20, 5)\n",
        "\n",
        "    def forward(self, x):\n",
        "        x = F.relu(self.conv1(x))\n",
        "        return F.relu(self.conv2(x))\n",
        "net = Model()\n",
        "net.cuda()"
      ],
      "execution_count": 19,
      "outputs": [
        {
          "output_type": "execute_result",
          "data": {
            "text/plain": [
              "Model(\n",
              "  (conv1): Conv2d(1, 20, kernel_size=(5, 5), stride=(1, 1))\n",
              "  (conv2): Conv2d(20, 20, kernel_size=(5, 5), stride=(1, 1))\n",
              ")"
            ]
          },
          "metadata": {
            "tags": []
          },
          "execution_count": 19
        }
      ]
    },
    {
      "cell_type": "markdown",
      "metadata": {
        "id": "ncstQcFx-gfG",
        "colab_type": "text"
      },
      "source": [
        "- PyTorch 0.4.0, PyTorch 0.4.1"
      ]
    },
    {
      "cell_type": "code",
      "metadata": {
        "id": "IwcrWlbi-dpj",
        "colab_type": "code",
        "outputId": "5569a61b-29db-4873-8b37-f56538daa1e8",
        "colab": {
          "base_uri": "https://localhost:8080/",
          "height": 85
        }
      },
      "source": [
        "import torch.nn as nn\n",
        "import torch.nn.functional as F\n",
        "\n",
        "class Model(nn.Module):\n",
        "    def __init__(self):\n",
        "        super(Model, self).__init__()\n",
        "        self.conv1 = nn.Conv2d(1, 20, 5)\n",
        "        self.conv2 = nn.Conv2d(20, 20, 5)\n",
        "\n",
        "    def forward(self, x):\n",
        "        x = F.relu(self.conv1(x))\n",
        "        return F.relu(self.conv2(x))\n",
        "net = Model()\n",
        "net.to('cuda')"
      ],
      "execution_count": 20,
      "outputs": [
        {
          "output_type": "execute_result",
          "data": {
            "text/plain": [
              "Model(\n",
              "  (conv1): Conv2d(1, 20, kernel_size=(5, 5), stride=(1, 1))\n",
              "  (conv2): Conv2d(20, 20, kernel_size=(5, 5), stride=(1, 1))\n",
              ")"
            ]
          },
          "metadata": {
            "tags": []
          },
          "execution_count": 20
        }
      ]
    },
    {
      "cell_type": "code",
      "metadata": {
        "id": "KFTI54S2-hTf",
        "colab_type": "code",
        "colab": {}
      },
      "source": [
        ""
      ],
      "execution_count": 0,
      "outputs": []
    }
  ]
}