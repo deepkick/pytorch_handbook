{
  "nbformat": 4,
  "nbformat_minor": 0,
  "metadata": {
    "accelerator": "GPU",
    "colab": {
      "name": "section5_1.ipynb",
      "provenance": [],
      "collapsed_sections": [],
      "include_colab_link": true
    },
    "kernelspec": {
      "display_name": "Python 3",
      "language": "python",
      "name": "python3"
    },
    "language_info": {
      "codemirror_mode": {
        "name": "ipython",
        "version": 3
      },
      "file_extension": ".py",
      "mimetype": "text/x-python",
      "name": "python",
      "nbconvert_exporter": "python",
      "pygments_lexer": "ipython3",
      "version": "3.6.5"
    }
  },
  "cells": [
    {
      "cell_type": "markdown",
      "metadata": {
        "id": "view-in-github",
        "colab_type": "text"
      },
      "source": [
        "<a href=\"https://colab.research.google.com/github/deepkick/pytorch_handbook/blob/master/chapter5/section5_1_colab.ipynb\" target=\"_parent\"><img src=\"https://colab.research.google.com/assets/colab-badge.svg\" alt=\"Open In Colab\"/></a>"
      ]
    },
    {
      "cell_type": "code",
      "metadata": {
        "colab_type": "code",
        "id": "19wNoz_c6wB-",
        "colab": {}
      },
      "source": [
        "# #colabを使う方はこちらを使用ください。\n",
        "# !pip install torch==0.4.1\n",
        "# !pip install torchvision==0.2.1\n",
        "# !pip install numpy==1.14.6\n",
        "# !pip install matplotlib==2.1.2\n",
        "# !pip install pillow==5.0.0\n",
        "# !pip install opencv-python==3.4.3.18\n",
        "# !pip install torchtext==0.3.1"
      ],
      "execution_count": 0,
      "outputs": []
    },
    {
      "cell_type": "markdown",
      "metadata": {
        "id": "ezsCCh6iFvCn",
        "colab_type": "text"
      },
      "source": [
        "https://pytorch.org/docs/stable/nn.html#torch.nn.LSTM  \n"
      ]
    },
    {
      "cell_type": "code",
      "metadata": {
        "colab_type": "code",
        "id": "I3fYtIRR4qoe",
        "colab": {}
      },
      "source": [
        "import torch\n",
        "import torch.nn as nn"
      ],
      "execution_count": 0,
      "outputs": []
    },
    {
      "cell_type": "code",
      "metadata": {
        "colab_type": "code",
        "id": "KpSorot44qok",
        "outputId": "b4ca5d37-e947-4ae4-a2cb-672d771857ed",
        "colab": {
          "base_uri": "https://localhost:8080/",
          "height": 85
        }
      },
      "source": [
        "x = torch.randn(1, 10, 2)   # LSTMの入力\n",
        "print('LSTM input:', x.shape)\n",
        "\n",
        "lstm_net = nn.LSTM(input_size=2, hidden_size=4, batch_first=True)\n",
        "\n",
        "y, _ = lstm_net(x)  # LSTMの出力\n",
        "print('LSTM output:', y.shape)\n",
        "\n",
        "x = torch.randn(20, 2)      # LSTMCellの入力\n",
        "h0 = torch.randn(20, 4)     # LSTMCellの中間層の初期値\n",
        "c0 = torch.randn(20, 4)     # LSTMCellのセル状態の初期値\n",
        "print('LSTMCell input:', x.shape)\n",
        "\n",
        "lstm_cell_net = nn.LSTMCell(input_size=2, hidden_size=4)\n",
        "\n",
        "y, _ = lstm_cell_net(x, (h0, c0))   # LSTMCellの出力\n",
        "print('LSTMCell output', y.shape)"
      ],
      "execution_count": 3,
      "outputs": [
        {
          "output_type": "stream",
          "text": [
            "LSTM input: torch.Size([1, 10, 2])\n",
            "LSTM output: torch.Size([1, 10, 4])\n",
            "LSTMCell input: torch.Size([20, 2])\n",
            "LSTMCell output torch.Size([20, 4])\n"
          ],
          "name": "stdout"
        }
      ]
    },
    {
      "cell_type": "code",
      "metadata": {
        "colab_type": "code",
        "id": "DdM6SR734_oD",
        "colab": {}
      },
      "source": [
        ""
      ],
      "execution_count": 0,
      "outputs": []
    }
  ]
}